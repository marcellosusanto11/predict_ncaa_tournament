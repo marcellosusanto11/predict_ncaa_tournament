{
  "nbformat": 4,
  "nbformat_minor": 0,
  "metadata": {
    "kernelspec": {
      "name": "python3",
      "display_name": "Python 3"
    },
    "colab": {
      "name": "scrape_kenpom",
      "provenance": [],
      "collapsed_sections": [],
      "include_colab_link": true
    },
    "accelerator": "GPU"
  },
  "cells": [
    {
      "cell_type": "markdown",
      "metadata": {
        "id": "view-in-github",
        "colab_type": "text"
      },
      "source": [
        "<a href=\"https://colab.research.google.com/github/marcellosusanto11/predict_ncaa_tournament/blob/master/Scraper/scrape_kenpom.ipynb\" target=\"_parent\"><img src=\"https://colab.research.google.com/assets/colab-badge.svg\" alt=\"Open In Colab\"/></a>"
      ]
    },
    {
      "cell_type": "code",
      "metadata": {
        "id": "6oTPXnrJbe7P",
        "colab_type": "code",
        "outputId": "f01473d6-58b0-4f57-8b19-69e3f4f213dc",
        "colab": {
          "base_uri": "https://localhost:8080/",
          "height": 125
        }
      },
      "source": [
        "# Mount drive\n",
        "from google.colab import drive\n",
        "drive.mount('/content/drive/')"
      ],
      "execution_count": 1,
      "outputs": [
        {
          "output_type": "stream",
          "text": [
            "Go to this URL in a browser: https://accounts.google.com/o/oauth2/auth?client_id=947318989803-6bn6qk8qdgf4n4g3pfee6491hc0brc4i.apps.googleusercontent.com&redirect_uri=urn%3aietf%3awg%3aoauth%3a2.0%3aoob&response_type=code&scope=email%20https%3a%2f%2fwww.googleapis.com%2fauth%2fdocs.test%20https%3a%2f%2fwww.googleapis.com%2fauth%2fdrive%20https%3a%2f%2fwww.googleapis.com%2fauth%2fdrive.photos.readonly%20https%3a%2f%2fwww.googleapis.com%2fauth%2fpeopleapi.readonly\n",
            "\n",
            "Enter your authorization code:\n",
            "··········\n",
            "Mounted at /content/drive/\n"
          ],
          "name": "stdout"
        }
      ]
    },
    {
      "cell_type": "code",
      "metadata": {
        "id": "ovrmibShbk2u",
        "colab_type": "code",
        "outputId": "d1f57370-f2c8-477f-9f76-380a035adb26",
        "colab": {
          "base_uri": "https://localhost:8080/",
          "height": 34
        }
      },
      "source": [
        "# Set working directory\n",
        "%cd drive/My\\ Drive/Colab\\ Notebooks/Tugas\\ Akhir"
      ],
      "execution_count": 2,
      "outputs": [
        {
          "output_type": "stream",
          "text": [
            "/content/drive/My Drive/Colab Notebooks/Tugas Akhir\n"
          ],
          "name": "stdout"
        }
      ]
    },
    {
      "cell_type": "code",
      "metadata": {
        "id": "khDDV-NnWj72",
        "colab_type": "code",
        "colab": {}
      },
      "source": [
        "# Import package\n",
        "from bs4 import BeautifulSoup\n",
        "import requests\n",
        "import pandas as pd\n",
        "import numpy as np\n",
        "import re\n",
        "\n",
        "pd.set_option('display.max_rows', 100)\n",
        "pd.set_option('display.max_columns', 50)"
      ],
      "execution_count": 0,
      "outputs": []
    },
    {
      "cell_type": "markdown",
      "metadata": {
        "id": "OU07PhDgxHFp",
        "colab_type": "text"
      },
      "source": [
        "## Scraping Kenpom Variable\n",
        "Ken Pomeroy is statistician that have established his name in college basketball statsitics since 2002. He have make a website kenpom.com which in it he post his so called posession-based metrics that he use to rank all the mens basketball team each year. His metrics have been used and post by famous blog such as FiveThirtyEight, Mediaite, and The Wall Street Journal"
      ]
    },
    {
      "cell_type": "code",
      "metadata": {
        "id": "GWJGbcxoWj8J",
        "colab_type": "code",
        "colab": {}
      },
      "source": [
        "# Define base url and url year \n",
        "base_url = 'http://kenpom.com/index.php'\n",
        "url_year = lambda x: '%s?y=%s' % (base_url, str(x))\n",
        "\n",
        "# Set a range of year that we want to scrape\n",
        "years = range(2011, 2020)"
      ],
      "execution_count": 0,
      "outputs": []
    },
    {
      "cell_type": "code",
      "metadata": {
        "id": "D9Ge9wDfWj8S",
        "colab_type": "code",
        "colab": {}
      },
      "source": [
        "# Function that get a dataframe based on a given year\n",
        "def import_raw_year(year):\n",
        "    \n",
        "    # Get the HTML from the page\n",
        "    f = requests.get(url_year(year))\n",
        "    soup = BeautifulSoup(f.text)\n",
        "\n",
        "    # Get the table\n",
        "    table_html = soup.find_all('table', {'id': 'ratings-table'})\n",
        "\n",
        "    # Weird issue w/ <thead> in the html\n",
        "    # Prevents us from just using pd.read_html\n",
        "    # Let's find all the thead contents and just replace/remove them\n",
        "    # This allows us to easily put the table row data into a dataframe using panda\n",
        "    thead = table_html[0].find_all('thead')\n",
        "\n",
        "    table = table_html[0]\n",
        "    for x in thead:\n",
        "        table = str(table).replace(str(x), '')\n",
        "\n",
        "    df = pd.read_html(table)[0]\n",
        "    df['year'] = year\n",
        "    return df"
      ],
      "execution_count": 0,
      "outputs": []
    },
    {
      "cell_type": "code",
      "metadata": {
        "id": "YtuDPS00Wj8b",
        "colab_type": "code",
        "colab": {}
      },
      "source": [
        "# Compile all the dataframe into a single dataframe\n",
        "df = None\n",
        "for x in years:\n",
        "    df = pd.concat( (df, import_raw_year(x)), axis=0) \\\n",
        "        if df is not None else import_raw_year(2002)"
      ],
      "execution_count": 0,
      "outputs": []
    },
    {
      "cell_type": "code",
      "metadata": {
        "id": "S34G7nB9Wj8j",
        "colab_type": "code",
        "colab": {}
      },
      "source": [
        "# Rename columns name based on the order in the website\n",
        "df.columns = ['Rank', 'Team', 'Conference', 'W-L', 'Pyth', \n",
        "             'AdjustO', 'AdjustO Rank', 'AdjustD', 'AdjustD Rank',\n",
        "             'AdjustT', 'AdjustT Rank', 'Luck', 'Luck Rank', \n",
        "             'SOS Pyth', 'SOS Pyth Rank', 'SOS OppO', 'SOS OppO Rank',\n",
        "             'SOS OppD', 'SOS OppD Rank', 'NCSOS Pyth', 'NCSOS Pyth Rank', 'Year']"
      ],
      "execution_count": 0,
      "outputs": []
    },
    {
      "cell_type": "code",
      "metadata": {
        "id": "bIJZwpzwWj8r",
        "colab_type": "code",
        "colab": {}
      },
      "source": [
        "# Validate the seed number\n",
        "valid_seed = lambda x: True if str(x).replace(' ', '').isdigit() \\\n",
        "                and int(x) > 0 and int(x) <= 16 else False\n",
        "\n",
        "df['Seed'] = df['Team'].apply(lambda x: x[-2:].replace(' ', '') \\\n",
        "                              if valid_seed(x[-2:]) else np.nan )\n",
        "\n",
        "df['Team'] = df['Team'].apply(lambda x: x[:-2] if valid_seed(x[-2:]) else x)"
      ],
      "execution_count": 0,
      "outputs": []
    },
    {
      "cell_type": "code",
      "metadata": {
        "id": "9vcDU0vcWj80",
        "colab_type": "code",
        "colab": {}
      },
      "source": [
        "# Split W-L column into wins and losses\n",
        "df['Wins'] = df['W-L'].apply(lambda x: int(re.sub('-.*', '', x)) )\n",
        "df['Losses'] = df['W-L'].apply(lambda x: int(re.sub('.*-', '', x)) )\n",
        "df.drop('W-L', inplace=True, axis=1)"
      ],
      "execution_count": 0,
      "outputs": []
    },
    {
      "cell_type": "code",
      "metadata": {
        "id": "LG1i6pqkWj88",
        "colab_type": "code",
        "colab": {}
      },
      "source": [
        "# Reorder columns\n",
        "df=df[[ 'Year', 'Rank', 'Team', 'Conference', 'Wins', 'Losses', 'Seed','Pyth', \n",
        "             'AdjustO', 'AdjustO Rank', 'AdjustD', 'AdjustD Rank',\n",
        "             'AdjustT', 'AdjustT Rank', 'Luck', 'Luck Rank', \n",
        "             'SOS Pyth', 'SOS Pyth Rank', 'SOS OppO', 'SOS OppO Rank',\n",
        "             'SOS OppD', 'SOS OppD Rank', 'NCSOS Pyth', 'NCSOS Pyth Rank']]"
      ],
      "execution_count": 0,
      "outputs": []
    },
    {
      "cell_type": "code",
      "metadata": {
        "id": "KT3gnyA0Wj9E",
        "colab_type": "code",
        "colab": {}
      },
      "source": [
        "# Save the dataset\n",
        "df.to_csv('Data Kenpom/kenpom.csv', index=False)"
      ],
      "execution_count": 0,
      "outputs": []
    }
  ]
}