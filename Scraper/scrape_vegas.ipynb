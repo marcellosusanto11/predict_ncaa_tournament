{
  "nbformat": 4,
  "nbformat_minor": 0,
  "metadata": {
    "colab": {
      "name": "scrape_vegas",
      "provenance": [],
      "collapsed_sections": [],
      "include_colab_link": true
    },
    "kernelspec": {
      "name": "python3",
      "display_name": "Python 3"
    },
    "accelerator": "GPU"
  },
  "cells": [
    {
      "cell_type": "markdown",
      "metadata": {
        "id": "view-in-github",
        "colab_type": "text"
      },
      "source": [
        "<a href=\"https://colab.research.google.com/github/marcellosusanto11/predict_ncaa_tournament/blob/master/Scraper/scrape_vegas.ipynb\" target=\"_parent\"><img src=\"https://colab.research.google.com/assets/colab-badge.svg\" alt=\"Open In Colab\"/></a>"
      ]
    },
    {
      "cell_type": "code",
      "metadata": {
        "id": "R-UUCe0CYPqC",
        "colab_type": "code",
        "outputId": "3e1b427f-ab80-4162-c975-e5da5221e028",
        "colab": {
          "base_uri": "https://localhost:8080/",
          "height": 125
        }
      },
      "source": [
        "# Mount drive\n",
        "from google.colab import drive\n",
        "drive.mount('/content/drive/')"
      ],
      "execution_count": 1,
      "outputs": [
        {
          "output_type": "stream",
          "text": [
            "Go to this URL in a browser: https://accounts.google.com/o/oauth2/auth?client_id=947318989803-6bn6qk8qdgf4n4g3pfee6491hc0brc4i.apps.googleusercontent.com&redirect_uri=urn%3aietf%3awg%3aoauth%3a2.0%3aoob&response_type=code&scope=email%20https%3a%2f%2fwww.googleapis.com%2fauth%2fdocs.test%20https%3a%2f%2fwww.googleapis.com%2fauth%2fdrive%20https%3a%2f%2fwww.googleapis.com%2fauth%2fdrive.photos.readonly%20https%3a%2f%2fwww.googleapis.com%2fauth%2fpeopleapi.readonly\n",
            "\n",
            "Enter your authorization code:\n",
            "··········\n",
            "Mounted at /content/drive/\n"
          ],
          "name": "stdout"
        }
      ]
    },
    {
      "cell_type": "code",
      "metadata": {
        "id": "MsmyR1WgYUHO",
        "colab_type": "code",
        "outputId": "876af4ef-d203-4bb4-ccec-00a8afdb9f21",
        "colab": {
          "base_uri": "https://localhost:8080/",
          "height": 34
        }
      },
      "source": [
        "# Set working directory\n",
        "%cd drive/My\\ Drive/Colab\\ Notebooks/Tugas\\ Akhir/"
      ],
      "execution_count": 2,
      "outputs": [
        {
          "output_type": "stream",
          "text": [
            "/content/drive/My Drive/Colab Notebooks/Tugas Akhir\n"
          ],
          "name": "stdout"
        }
      ]
    },
    {
      "cell_type": "code",
      "metadata": {
        "id": "ZHh0Vb3kG0j-",
        "colab_type": "code",
        "outputId": "1e1a0463-332b-4f67-d8a8-10628c4f47ee",
        "colab": {
          "base_uri": "https://localhost:8080/",
          "height": 34
        }
      },
      "source": [
        "# Install package\n",
        "!pip install tqdm"
      ],
      "execution_count": 3,
      "outputs": [
        {
          "output_type": "stream",
          "text": [
            "Requirement already satisfied: tqdm in /usr/local/lib/python3.6/dist-packages (4.28.1)\n"
          ],
          "name": "stdout"
        }
      ]
    },
    {
      "cell_type": "code",
      "metadata": {
        "id": "494DLdhBGxxd",
        "colab_type": "code",
        "colab": {}
      },
      "source": [
        "# Setting general package\n",
        "import pandas as pd\n",
        "import pandas_profiling as pp\n",
        "import numpy as np\n",
        "import matplotlib.pyplot as plt\n",
        "import matplotlib.gridspec as gridspec\n",
        "import seaborn as sns\n",
        "%matplotlib inline\n",
        "\n",
        "# Setting specific package\n",
        "from bs4 import BeautifulSoup\n",
        "import requests\n",
        "import re\n",
        "from tqdm import tqdm\n",
        "\n",
        "from matplotlib.pylab import rcParams\n",
        "# For every plotting cell use this\n",
        "# fig, axes = plt.subplots()\n",
        "rcParams['figure.figsize'] = [10,5]\n",
        "plt.style.use('fivethirtyeight') \n",
        "sns.set_style('whitegrid')\n",
        "\n",
        "import warnings\n",
        "warnings.filterwarnings('ignore')\n",
        "\n",
        "pd.set_option('display.max_rows', 50)\n",
        "pd.set_option('display.max_columns', 50)"
      ],
      "execution_count": 0,
      "outputs": []
    },
    {
      "cell_type": "markdown",
      "metadata": {
        "id": "W8pxmh6O08AP",
        "colab_type": "text"
      },
      "source": [
        "## Scraping Odds Data\n",
        "Source : covers.com\n",
        "\n",
        "covers.com provide vegas point spread data starting from 2010-2011 NCAA Regular Season until 2020. Below the list of variable that we can get from scraping :\n",
        " - Date\n",
        " - HomeTeam/AwayTeam\n",
        " - HomeScore/AwayScore\n",
        " - HomeConf/AwayConf\n",
        " - Competiton Type\n",
        " - Odd"
      ]
    },
    {
      "cell_type": "code",
      "metadata": {
        "id": "6pH5cLia2TsF",
        "colab_type": "code",
        "colab": {}
      },
      "source": [
        "# Function to make the correct Date\n",
        "def convert_date(num) :\n",
        "  if num < 10 :\n",
        "    conv = '0' + str(num)\n",
        "  else :\n",
        "    conv = str(num)\n",
        "\n",
        "  return conv"
      ],
      "execution_count": 0,
      "outputs": []
    },
    {
      "cell_type": "code",
      "metadata": {
        "id": "LhhASBcX00jx",
        "colab_type": "code",
        "outputId": "1c3649c0-e812-4bb6-d9d3-f3979b8f3e97",
        "colab": {
          "base_uri": "https://localhost:8080/",
          "height": 34
        }
      },
      "source": [
        "# -- Scraping program for vegas point spread data\n",
        "\n",
        "# Define list to make the dataframe\n",
        "dict_df = {'Date':[], 'HomeTeam':[], 'AwayTeam':[], 'HomeConf':[], 'AwayConf':[], 'HomeScore':[], 'AwayScore':[], 'Competition':[], 'Odd':[]}\n",
        "list_col = list(dict_df.keys())\n",
        "\n",
        "# Define base url \n",
        "base_url = 'https://www.covers.com/Sports/NCAAB/Matchups?selectedDate='\n",
        "\n",
        "# Iteration to make Date string\n",
        "# 8 November 2010 is a Date where the 2010-2011 season start\n",
        "for date in tqdm(pd.date_range(pd.to_datetime('2010-11-08'), pd.datetime.today()).date) :\n",
        "\n",
        "  # Complete the base url\n",
        "  date = str(date)\n",
        "  url = base_url + date\n",
        "\n",
        "  # Get the HTML from the page\n",
        "  try :\n",
        "    f = requests.get(url)\n",
        "  except :\n",
        "    continue\n",
        "  soup = BeautifulSoup(f.text)\n",
        "\n",
        "  # Iteration for scraping\n",
        "  for match in soup.find_all('div', {\"class\": \"cmg_matchup_game_box cmg_game_data\"}) :\n",
        "    if match['data-game-odd'] != '' :\n",
        "      try :\n",
        "        v_date = pd.to_datetime(date)\n",
        "        v_hometeam = match['data-home-team-fullname-search']\n",
        "        v_awayteam = match['data-away-team-fullname-search']\n",
        "        v_homescore = match['data-home-score']\n",
        "        v_awayscore = match['data-away-score']\n",
        "        v_homeconf = match['data-home-conference']\n",
        "        v_awayconf = match['data-away-conference']\n",
        "        v_comp = match['data-competition-type']\n",
        "        v_odd = match['data-game-odd']\n",
        "      except :\n",
        "        continue\n",
        "\n",
        "      # Compile all the variable we get into list\n",
        "      list_df = [v_date, v_hometeam, v_awayteam, v_homescore, v_awayscore, v_homeconf, v_awayconf, v_comp, v_odd]\n",
        "\n",
        "      # Put it into dictionary\n",
        "      for i in range(len(list_df)) :\n",
        "        dict_df[list_col[i]].append(list_df[i])\n",
        "\n",
        "# Make the dataframe\n",
        "df_vegas = pd.DataFrame(dict_df)"
      ],
      "execution_count": 6,
      "outputs": [
        {
          "output_type": "stream",
          "text": [
            "100%|██████████| 3385/3385 [1:57:50<00:00,  1.63s/it]\n"
          ],
          "name": "stderr"
        }
      ]
    },
    {
      "cell_type": "code",
      "metadata": {
        "id": "dIp1MEIxv454",
        "colab_type": "code",
        "colab": {
          "base_uri": "https://localhost:8080/",
          "height": 197
        },
        "outputId": "972c7037-2854-4c00-89e3-94efe35b06e7"
      },
      "source": [
        "df_vegas.head()"
      ],
      "execution_count": 7,
      "outputs": [
        {
          "output_type": "execute_result",
          "data": {
            "text/html": [
              "<div>\n",
              "<style scoped>\n",
              "    .dataframe tbody tr th:only-of-type {\n",
              "        vertical-align: middle;\n",
              "    }\n",
              "\n",
              "    .dataframe tbody tr th {\n",
              "        vertical-align: top;\n",
              "    }\n",
              "\n",
              "    .dataframe thead th {\n",
              "        text-align: right;\n",
              "    }\n",
              "</style>\n",
              "<table border=\"1\" class=\"dataframe\">\n",
              "  <thead>\n",
              "    <tr style=\"text-align: right;\">\n",
              "      <th></th>\n",
              "      <th>Date</th>\n",
              "      <th>HomeTeam</th>\n",
              "      <th>AwayTeam</th>\n",
              "      <th>HomeConf</th>\n",
              "      <th>AwayConf</th>\n",
              "      <th>HomeScore</th>\n",
              "      <th>AwayScore</th>\n",
              "      <th>Competition</th>\n",
              "      <th>Odd</th>\n",
              "    </tr>\n",
              "  </thead>\n",
              "  <tbody>\n",
              "    <tr>\n",
              "      <th>0</th>\n",
              "      <td>2011-04-05</td>\n",
              "      <td>St. John's</td>\n",
              "      <td>William &amp; Mary</td>\n",
              "      <td>74</td>\n",
              "      <td>59</td>\n",
              "      <td>Big East</td>\n",
              "      <td>Colonial Athletic Association</td>\n",
              "      <td>Regular Season</td>\n",
              "      <td>-7.5</td>\n",
              "    </tr>\n",
              "    <tr>\n",
              "      <th>1</th>\n",
              "      <td>2011-04-05</td>\n",
              "      <td>Mississippi State</td>\n",
              "      <td>Eastern Kentucky</td>\n",
              "      <td>76</td>\n",
              "      <td>66</td>\n",
              "      <td>Southeastern</td>\n",
              "      <td>Ohio Valley</td>\n",
              "      <td>Regular Season</td>\n",
              "      <td>-16.5</td>\n",
              "    </tr>\n",
              "    <tr>\n",
              "      <th>2</th>\n",
              "      <td>2011-04-05</td>\n",
              "      <td>Arizona</td>\n",
              "      <td>Valparaiso</td>\n",
              "      <td>73</td>\n",
              "      <td>64</td>\n",
              "      <td>Pacific-12</td>\n",
              "      <td>Missouri Valley</td>\n",
              "      <td>Regular Season</td>\n",
              "      <td>-14.5</td>\n",
              "    </tr>\n",
              "    <tr>\n",
              "      <th>3</th>\n",
              "      <td>2011-04-06</td>\n",
              "      <td>St. John's</td>\n",
              "      <td>William &amp; Mary</td>\n",
              "      <td>74</td>\n",
              "      <td>59</td>\n",
              "      <td>Big East</td>\n",
              "      <td>Colonial Athletic Association</td>\n",
              "      <td>Regular Season</td>\n",
              "      <td>-7.5</td>\n",
              "    </tr>\n",
              "    <tr>\n",
              "      <th>4</th>\n",
              "      <td>2011-04-06</td>\n",
              "      <td>Mississippi State</td>\n",
              "      <td>Eastern Kentucky</td>\n",
              "      <td>76</td>\n",
              "      <td>66</td>\n",
              "      <td>Southeastern</td>\n",
              "      <td>Ohio Valley</td>\n",
              "      <td>Regular Season</td>\n",
              "      <td>-16.5</td>\n",
              "    </tr>\n",
              "  </tbody>\n",
              "</table>\n",
              "</div>"
            ],
            "text/plain": [
              "        Date           HomeTeam          AwayTeam HomeConf AwayConf  \\\n",
              "0 2011-04-05         St. John's    William & Mary       74       59   \n",
              "1 2011-04-05  Mississippi State  Eastern Kentucky       76       66   \n",
              "2 2011-04-05            Arizona        Valparaiso       73       64   \n",
              "3 2011-04-06         St. John's    William & Mary       74       59   \n",
              "4 2011-04-06  Mississippi State  Eastern Kentucky       76       66   \n",
              "\n",
              "      HomeScore                      AwayScore     Competition    Odd  \n",
              "0      Big East  Colonial Athletic Association  Regular Season   -7.5  \n",
              "1  Southeastern                    Ohio Valley  Regular Season  -16.5  \n",
              "2    Pacific-12                Missouri Valley  Regular Season  -14.5  \n",
              "3      Big East  Colonial Athletic Association  Regular Season   -7.5  \n",
              "4  Southeastern                    Ohio Valley  Regular Season  -16.5  "
            ]
          },
          "metadata": {
            "tags": []
          },
          "execution_count": 7
        }
      ]
    },
    {
      "cell_type": "code",
      "metadata": {
        "id": "QSezCnj9mNk6",
        "colab_type": "code",
        "colab": {}
      },
      "source": [
        "# Simpan dataframenya\n",
        "df_vegas.to_csv('Data LasVegas/vegas.csv', index=False)"
      ],
      "execution_count": 0,
      "outputs": []
    }
  ]
}