{
  "nbformat": 4,
  "nbformat_minor": 0,
  "metadata": {
    "colab": {
      "name": "preproc_dataset",
      "provenance": [],
      "collapsed_sections": [],
      "include_colab_link": true
    },
    "kernelspec": {
      "name": "python3",
      "display_name": "Python 3"
    },
    "accelerator": "GPU"
  },
  "cells": [
    {
      "cell_type": "markdown",
      "metadata": {
        "id": "view-in-github",
        "colab_type": "text"
      },
      "source": [
        "<a href=\"https://colab.research.google.com/github/marcellosusanto11/predict_ncaa_tournament/blob/master/preproc_dataset.ipynb\" target=\"_parent\"><img src=\"https://colab.research.google.com/assets/colab-badge.svg\" alt=\"Open In Colab\"/></a>"
      ]
    },
    {
      "cell_type": "code",
      "metadata": {
        "id": "R-UUCe0CYPqC",
        "colab_type": "code",
        "outputId": "afea744e-f77a-401e-ffd7-33f85be9eb58",
        "colab": {
          "base_uri": "https://localhost:8080/",
          "height": 34
        }
      },
      "source": [
        "# Mount drive\n",
        "from google.colab import drive\n",
        "drive.mount('/content/drive/')"
      ],
      "execution_count": 1,
      "outputs": [
        {
          "output_type": "stream",
          "text": [
            "Drive already mounted at /content/drive/; to attempt to forcibly remount, call drive.mount(\"/content/drive/\", force_remount=True).\n"
          ],
          "name": "stdout"
        }
      ]
    },
    {
      "cell_type": "code",
      "metadata": {
        "id": "MsmyR1WgYUHO",
        "colab_type": "code",
        "outputId": "b71314b5-16c8-4113-baa0-12f3c6053510",
        "colab": {
          "base_uri": "https://localhost:8080/",
          "height": 34
        }
      },
      "source": [
        "# Set working directory\n",
        "%cd drive/My\\ Drive/Colab\\ Notebooks/Tugas\\ Akhir/"
      ],
      "execution_count": 2,
      "outputs": [
        {
          "output_type": "stream",
          "text": [
            "/content/drive/My Drive/Colab Notebooks/Tugas Akhir\n"
          ],
          "name": "stdout"
        }
      ]
    },
    {
      "cell_type": "code",
      "metadata": {
        "id": "ZHh0Vb3kG0j-",
        "colab_type": "code",
        "colab": {}
      },
      "source": [
        "# Install package\n"
      ],
      "execution_count": 0,
      "outputs": []
    },
    {
      "cell_type": "code",
      "metadata": {
        "id": "494DLdhBGxxd",
        "colab_type": "code",
        "colab": {}
      },
      "source": [
        "# Setting general package\n",
        "import pandas as pd\n",
        "import pandas_profiling as pp\n",
        "import numpy as np\n",
        "import matplotlib.pyplot as plt\n",
        "import matplotlib.gridspec as gridspec\n",
        "import seaborn as sns\n",
        "%matplotlib inline\n",
        "\n",
        "from matplotlib.pylab import rcParams\n",
        "# For every plotting cell use this\n",
        "# fig, axes = plt.subplots()\n",
        "rcParams['figure.figsize'] = [10,5]\n",
        "plt.style.use('fivethirtyeight') \n",
        "sns.set_style('whitegrid')\n",
        "\n",
        "import warnings\n",
        "warnings.filterwarnings('ignore')\n",
        "\n",
        "from tqdm import tqdm\n",
        "pd.set_option('display.max_rows', 1000)\n",
        "pd.set_option('display.max_columns', 50)"
      ],
      "execution_count": 0,
      "outputs": []
    },
    {
      "cell_type": "markdown",
      "metadata": {
        "id": "xKRgfTOjCkcm",
        "colab_type": "text"
      },
      "source": [
        "## Preproc Dataset\n",
        "This file is used to compile three different dataset (vegas, kenpom, teamranking) into one final dataset for modelling with categorical response variable 'Result' that represent wether the home team win or not\n",
        "\n",
        "\n",
        "\n"
      ]
    },
    {
      "cell_type": "code",
      "metadata": {
        "id": "iDbljlipHQdn",
        "colab_type": "code",
        "colab": {}
      },
      "source": [
        "# Load dataset\n",
        "df_kenpom = pd.read_csv('Data Kenpom/kenpom.csv')\n",
        "df_vegas = pd.read_csv('Data LasVegas/vegas.csv')\n",
        "df_teamrank = pd.read_csv('Data Teamranking/teamranking.csv')\n",
        "teamname_df = pd.read_csv('Data Lain/change_team_name.csv')"
      ],
      "execution_count": 0,
      "outputs": []
    },
    {
      "cell_type": "code",
      "metadata": {
        "id": "0sehzsxQvMmo",
        "colab_type": "code",
        "outputId": "01d619a1-d6d6-4b68-eefd-50b3f43885a0",
        "colab": {
          "base_uri": "https://localhost:8080/",
          "height": 231
        }
      },
      "source": [
        "# Overview dataset kenpom\n",
        "df_kenpom.head()"
      ],
      "execution_count": 5,
      "outputs": [
        {
          "output_type": "execute_result",
          "data": {
            "text/html": [
              "<div>\n",
              "<style scoped>\n",
              "    .dataframe tbody tr th:only-of-type {\n",
              "        vertical-align: middle;\n",
              "    }\n",
              "\n",
              "    .dataframe tbody tr th {\n",
              "        vertical-align: top;\n",
              "    }\n",
              "\n",
              "    .dataframe thead th {\n",
              "        text-align: right;\n",
              "    }\n",
              "</style>\n",
              "<table border=\"1\" class=\"dataframe\">\n",
              "  <thead>\n",
              "    <tr style=\"text-align: right;\">\n",
              "      <th></th>\n",
              "      <th>Year</th>\n",
              "      <th>Rank</th>\n",
              "      <th>Team</th>\n",
              "      <th>Conference</th>\n",
              "      <th>Wins</th>\n",
              "      <th>Losses</th>\n",
              "      <th>Seed</th>\n",
              "      <th>Pyth</th>\n",
              "      <th>AdjustO</th>\n",
              "      <th>AdjustO Rank</th>\n",
              "      <th>AdjustD</th>\n",
              "      <th>AdjustD Rank</th>\n",
              "      <th>AdjustT</th>\n",
              "      <th>AdjustT Rank</th>\n",
              "      <th>Luck</th>\n",
              "      <th>Luck Rank</th>\n",
              "      <th>SOS Pyth</th>\n",
              "      <th>SOS Pyth Rank</th>\n",
              "      <th>SOS OppO</th>\n",
              "      <th>SOS OppO Rank</th>\n",
              "      <th>SOS OppD</th>\n",
              "      <th>SOS OppD Rank</th>\n",
              "      <th>NCSOS Pyth</th>\n",
              "      <th>NCSOS Pyth Rank</th>\n",
              "    </tr>\n",
              "  </thead>\n",
              "  <tbody>\n",
              "    <tr>\n",
              "      <th>0</th>\n",
              "      <td>2002</td>\n",
              "      <td>1</td>\n",
              "      <td>Duke</td>\n",
              "      <td>ACC</td>\n",
              "      <td>31</td>\n",
              "      <td>4</td>\n",
              "      <td>1.0</td>\n",
              "      <td>34.19</td>\n",
              "      <td>121.0</td>\n",
              "      <td>1</td>\n",
              "      <td>86.8</td>\n",
              "      <td>1</td>\n",
              "      <td>74.5</td>\n",
              "      <td>8</td>\n",
              "      <td>-0.027</td>\n",
              "      <td>223</td>\n",
              "      <td>9.87</td>\n",
              "      <td>18</td>\n",
              "      <td>109.1</td>\n",
              "      <td>13</td>\n",
              "      <td>99.2</td>\n",
              "      <td>31</td>\n",
              "      <td>6.66</td>\n",
              "      <td>34</td>\n",
              "    </tr>\n",
              "    <tr>\n",
              "      <th>1</th>\n",
              "      <td>2002</td>\n",
              "      <td>2</td>\n",
              "      <td>Cincinnati</td>\n",
              "      <td>CUSA</td>\n",
              "      <td>31</td>\n",
              "      <td>4</td>\n",
              "      <td>1.0</td>\n",
              "      <td>30.19</td>\n",
              "      <td>118.1</td>\n",
              "      <td>7</td>\n",
              "      <td>87.9</td>\n",
              "      <td>3</td>\n",
              "      <td>67.4</td>\n",
              "      <td>194</td>\n",
              "      <td>0.002</td>\n",
              "      <td>165</td>\n",
              "      <td>6.58</td>\n",
              "      <td>57</td>\n",
              "      <td>106.3</td>\n",
              "      <td>66</td>\n",
              "      <td>99.7</td>\n",
              "      <td>42</td>\n",
              "      <td>3.48</td>\n",
              "      <td>80</td>\n",
              "    </tr>\n",
              "    <tr>\n",
              "      <th>2</th>\n",
              "      <td>2002</td>\n",
              "      <td>3</td>\n",
              "      <td>Maryland</td>\n",
              "      <td>ACC</td>\n",
              "      <td>32</td>\n",
              "      <td>4</td>\n",
              "      <td>1.0</td>\n",
              "      <td>29.25</td>\n",
              "      <td>119.2</td>\n",
              "      <td>4</td>\n",
              "      <td>89.9</td>\n",
              "      <td>7</td>\n",
              "      <td>73.7</td>\n",
              "      <td>15</td>\n",
              "      <td>0.025</td>\n",
              "      <td>104</td>\n",
              "      <td>9.88</td>\n",
              "      <td>16</td>\n",
              "      <td>109.1</td>\n",
              "      <td>11</td>\n",
              "      <td>99.3</td>\n",
              "      <td>33</td>\n",
              "      <td>1.62</td>\n",
              "      <td>120</td>\n",
              "    </tr>\n",
              "    <tr>\n",
              "      <th>3</th>\n",
              "      <td>2002</td>\n",
              "      <td>4</td>\n",
              "      <td>Kansas</td>\n",
              "      <td>B12</td>\n",
              "      <td>33</td>\n",
              "      <td>4</td>\n",
              "      <td>1.0</td>\n",
              "      <td>28.99</td>\n",
              "      <td>118.7</td>\n",
              "      <td>5</td>\n",
              "      <td>89.7</td>\n",
              "      <td>6</td>\n",
              "      <td>77.3</td>\n",
              "      <td>3</td>\n",
              "      <td>0.022</td>\n",
              "      <td>109</td>\n",
              "      <td>10.66</td>\n",
              "      <td>10</td>\n",
              "      <td>110.3</td>\n",
              "      <td>4</td>\n",
              "      <td>99.6</td>\n",
              "      <td>40</td>\n",
              "      <td>8.32</td>\n",
              "      <td>23</td>\n",
              "    </tr>\n",
              "    <tr>\n",
              "      <th>4</th>\n",
              "      <td>2002</td>\n",
              "      <td>5</td>\n",
              "      <td>Oklahoma</td>\n",
              "      <td>B12</td>\n",
              "      <td>31</td>\n",
              "      <td>5</td>\n",
              "      <td>2.0</td>\n",
              "      <td>26.04</td>\n",
              "      <td>114.9</td>\n",
              "      <td>20</td>\n",
              "      <td>88.9</td>\n",
              "      <td>4</td>\n",
              "      <td>66.5</td>\n",
              "      <td>228</td>\n",
              "      <td>0.043</td>\n",
              "      <td>69</td>\n",
              "      <td>8.77</td>\n",
              "      <td>26</td>\n",
              "      <td>109.0</td>\n",
              "      <td>15</td>\n",
              "      <td>100.2</td>\n",
              "      <td>62</td>\n",
              "      <td>-0.45</td>\n",
              "      <td>169</td>\n",
              "    </tr>\n",
              "  </tbody>\n",
              "</table>\n",
              "</div>"
            ],
            "text/plain": [
              "   Year  Rank        Team Conference  Wins  Losses  Seed   Pyth  AdjustO  \\\n",
              "0  2002     1        Duke        ACC    31       4   1.0  34.19    121.0   \n",
              "1  2002     2  Cincinnati       CUSA    31       4   1.0  30.19    118.1   \n",
              "2  2002     3    Maryland        ACC    32       4   1.0  29.25    119.2   \n",
              "3  2002     4      Kansas        B12    33       4   1.0  28.99    118.7   \n",
              "4  2002     5    Oklahoma        B12    31       5   2.0  26.04    114.9   \n",
              "\n",
              "   AdjustO Rank  AdjustD  AdjustD Rank  AdjustT  AdjustT Rank   Luck  \\\n",
              "0             1     86.8             1     74.5             8 -0.027   \n",
              "1             7     87.9             3     67.4           194  0.002   \n",
              "2             4     89.9             7     73.7            15  0.025   \n",
              "3             5     89.7             6     77.3             3  0.022   \n",
              "4            20     88.9             4     66.5           228  0.043   \n",
              "\n",
              "   Luck Rank  SOS Pyth  SOS Pyth Rank  SOS OppO  SOS OppO Rank  SOS OppD  \\\n",
              "0        223      9.87             18     109.1             13      99.2   \n",
              "1        165      6.58             57     106.3             66      99.7   \n",
              "2        104      9.88             16     109.1             11      99.3   \n",
              "3        109     10.66             10     110.3              4      99.6   \n",
              "4         69      8.77             26     109.0             15     100.2   \n",
              "\n",
              "   SOS OppD Rank  NCSOS Pyth  NCSOS Pyth Rank  \n",
              "0             31        6.66               34  \n",
              "1             42        3.48               80  \n",
              "2             33        1.62              120  \n",
              "3             40        8.32               23  \n",
              "4             62       -0.45              169  "
            ]
          },
          "metadata": {
            "tags": []
          },
          "execution_count": 5
        }
      ]
    },
    {
      "cell_type": "code",
      "metadata": {
        "id": "MHA4eJPIKpdP",
        "colab_type": "code",
        "outputId": "05c7048d-570b-4c47-b0d2-796471a1deb5",
        "colab": {
          "base_uri": "https://localhost:8080/",
          "height": 461
        }
      },
      "source": [
        "# Missing values dataset kenpom\n",
        "df_kenpom.isnull().sum()"
      ],
      "execution_count": 6,
      "outputs": [
        {
          "output_type": "execute_result",
          "data": {
            "text/plain": [
              "Year                  0\n",
              "Rank                  0\n",
              "Team                  0\n",
              "Conference            0\n",
              "Wins                  0\n",
              "Losses                0\n",
              "Seed               2262\n",
              "Pyth                  0\n",
              "AdjustO               0\n",
              "AdjustO Rank          0\n",
              "AdjustD               0\n",
              "AdjustD Rank          0\n",
              "AdjustT               0\n",
              "AdjustT Rank          0\n",
              "Luck                  0\n",
              "Luck Rank             0\n",
              "SOS Pyth              0\n",
              "SOS Pyth Rank         0\n",
              "SOS OppO              0\n",
              "SOS OppO Rank         0\n",
              "SOS OppD              0\n",
              "SOS OppD Rank         0\n",
              "NCSOS Pyth            0\n",
              "NCSOS Pyth Rank       0\n",
              "dtype: int64"
            ]
          },
          "metadata": {
            "tags": []
          },
          "execution_count": 6
        }
      ]
    },
    {
      "cell_type": "markdown",
      "metadata": {
        "id": "hh1FALAuQunH",
        "colab_type": "text"
      },
      "source": [
        "Of course variable 'Seed' will have so many missing values because there only a few team in each season competing in the NCAA Tournament "
      ]
    },
    {
      "cell_type": "code",
      "metadata": {
        "id": "T-HeHeyFvUnY",
        "colab_type": "code",
        "outputId": "64ec6c03-8d46-434b-f5fa-ac44432c1705",
        "colab": {
          "base_uri": "https://localhost:8080/",
          "height": 197
        }
      },
      "source": [
        "# Overview dataset vegas\n",
        "df_vegas.head()"
      ],
      "execution_count": 7,
      "outputs": [
        {
          "output_type": "execute_result",
          "data": {
            "text/html": [
              "<div>\n",
              "<style scoped>\n",
              "    .dataframe tbody tr th:only-of-type {\n",
              "        vertical-align: middle;\n",
              "    }\n",
              "\n",
              "    .dataframe tbody tr th {\n",
              "        vertical-align: top;\n",
              "    }\n",
              "\n",
              "    .dataframe thead th {\n",
              "        text-align: right;\n",
              "    }\n",
              "</style>\n",
              "<table border=\"1\" class=\"dataframe\">\n",
              "  <thead>\n",
              "    <tr style=\"text-align: right;\">\n",
              "      <th></th>\n",
              "      <th>Date</th>\n",
              "      <th>HomeTeam</th>\n",
              "      <th>AwayTeam</th>\n",
              "      <th>HomeConf</th>\n",
              "      <th>AwayConf</th>\n",
              "      <th>HomeScore</th>\n",
              "      <th>AwayScore</th>\n",
              "      <th>Competition</th>\n",
              "      <th>Odd</th>\n",
              "    </tr>\n",
              "  </thead>\n",
              "  <tbody>\n",
              "    <tr>\n",
              "      <th>0</th>\n",
              "      <td>2011-04-05</td>\n",
              "      <td>St. John's</td>\n",
              "      <td>William &amp; Mary</td>\n",
              "      <td>74</td>\n",
              "      <td>59</td>\n",
              "      <td>Big East</td>\n",
              "      <td>Colonial Athletic Association</td>\n",
              "      <td>Regular Season</td>\n",
              "      <td>-7.5</td>\n",
              "    </tr>\n",
              "    <tr>\n",
              "      <th>1</th>\n",
              "      <td>2011-04-05</td>\n",
              "      <td>Mississippi State</td>\n",
              "      <td>Eastern Kentucky</td>\n",
              "      <td>76</td>\n",
              "      <td>66</td>\n",
              "      <td>Southeastern</td>\n",
              "      <td>Ohio Valley</td>\n",
              "      <td>Regular Season</td>\n",
              "      <td>-16.5</td>\n",
              "    </tr>\n",
              "    <tr>\n",
              "      <th>2</th>\n",
              "      <td>2011-04-05</td>\n",
              "      <td>Arizona</td>\n",
              "      <td>Valparaiso</td>\n",
              "      <td>73</td>\n",
              "      <td>64</td>\n",
              "      <td>Pacific-12</td>\n",
              "      <td>Missouri Valley</td>\n",
              "      <td>Regular Season</td>\n",
              "      <td>-14.5</td>\n",
              "    </tr>\n",
              "    <tr>\n",
              "      <th>3</th>\n",
              "      <td>2011-04-06</td>\n",
              "      <td>St. John's</td>\n",
              "      <td>William &amp; Mary</td>\n",
              "      <td>74</td>\n",
              "      <td>59</td>\n",
              "      <td>Big East</td>\n",
              "      <td>Colonial Athletic Association</td>\n",
              "      <td>Regular Season</td>\n",
              "      <td>-7.5</td>\n",
              "    </tr>\n",
              "    <tr>\n",
              "      <th>4</th>\n",
              "      <td>2011-04-06</td>\n",
              "      <td>Mississippi State</td>\n",
              "      <td>Eastern Kentucky</td>\n",
              "      <td>76</td>\n",
              "      <td>66</td>\n",
              "      <td>Southeastern</td>\n",
              "      <td>Ohio Valley</td>\n",
              "      <td>Regular Season</td>\n",
              "      <td>-16.5</td>\n",
              "    </tr>\n",
              "  </tbody>\n",
              "</table>\n",
              "</div>"
            ],
            "text/plain": [
              "         Date           HomeTeam          AwayTeam  HomeConf  AwayConf  \\\n",
              "0  2011-04-05         St. John's    William & Mary        74        59   \n",
              "1  2011-04-05  Mississippi State  Eastern Kentucky        76        66   \n",
              "2  2011-04-05            Arizona        Valparaiso        73        64   \n",
              "3  2011-04-06         St. John's    William & Mary        74        59   \n",
              "4  2011-04-06  Mississippi State  Eastern Kentucky        76        66   \n",
              "\n",
              "      HomeScore                      AwayScore     Competition   Odd  \n",
              "0      Big East  Colonial Athletic Association  Regular Season  -7.5  \n",
              "1  Southeastern                    Ohio Valley  Regular Season -16.5  \n",
              "2    Pacific-12                Missouri Valley  Regular Season -14.5  \n",
              "3      Big East  Colonial Athletic Association  Regular Season  -7.5  \n",
              "4  Southeastern                    Ohio Valley  Regular Season -16.5  "
            ]
          },
          "metadata": {
            "tags": []
          },
          "execution_count": 7
        }
      ]
    },
    {
      "cell_type": "markdown",
      "metadata": {
        "id": "z-hhlURCQ4ek",
        "colab_type": "text"
      },
      "source": [
        "Seems like there is a mistake in the order of the vegas dataset. 'Conf' and 'Score variable have their position reversed. So we will change the variable name order"
      ]
    },
    {
      "cell_type": "code",
      "metadata": {
        "id": "o5sj0brOLF-P",
        "colab_type": "code",
        "colab": {}
      },
      "source": [
        "# Change the order of the variable name in vegas dataset\n",
        "df_vegas.columns = ['Date','HomeTeam','AwayTeam','HomeScore','AwayScore','HomeConf','AwayConf','Competition','Odd']"
      ],
      "execution_count": 0,
      "outputs": []
    },
    {
      "cell_type": "code",
      "metadata": {
        "id": "ZipqL3DlRDNE",
        "colab_type": "code",
        "outputId": "5bd4dd6f-aece-46c3-b969-82930149cd89",
        "colab": {
          "base_uri": "https://localhost:8080/",
          "height": 406
        }
      },
      "source": [
        "# Check wether there are duplicated rows\n",
        "df_vegas[df_vegas.duplicated(subset=list(df_vegas.columns)[1:])]. sort_values('HomeTeam')"
      ],
      "execution_count": 9,
      "outputs": [
        {
          "output_type": "execute_result",
          "data": {
            "text/html": [
              "<div>\n",
              "<style scoped>\n",
              "    .dataframe tbody tr th:only-of-type {\n",
              "        vertical-align: middle;\n",
              "    }\n",
              "\n",
              "    .dataframe tbody tr th {\n",
              "        vertical-align: top;\n",
              "    }\n",
              "\n",
              "    .dataframe thead th {\n",
              "        text-align: right;\n",
              "    }\n",
              "</style>\n",
              "<table border=\"1\" class=\"dataframe\">\n",
              "  <thead>\n",
              "    <tr style=\"text-align: right;\">\n",
              "      <th></th>\n",
              "      <th>Date</th>\n",
              "      <th>HomeTeam</th>\n",
              "      <th>AwayTeam</th>\n",
              "      <th>HomeScore</th>\n",
              "      <th>AwayScore</th>\n",
              "      <th>HomeConf</th>\n",
              "      <th>AwayConf</th>\n",
              "      <th>Competition</th>\n",
              "      <th>Odd</th>\n",
              "    </tr>\n",
              "  </thead>\n",
              "  <tbody>\n",
              "    <tr>\n",
              "      <th>742</th>\n",
              "      <td>2011-11-11</td>\n",
              "      <td>Air Force</td>\n",
              "      <td>Army</td>\n",
              "      <td>87</td>\n",
              "      <td>71</td>\n",
              "      <td>Mountain West</td>\n",
              "      <td>Patriot League</td>\n",
              "      <td>Regular Season</td>\n",
              "      <td>-12.5</td>\n",
              "    </tr>\n",
              "    <tr>\n",
              "      <th>99040</th>\n",
              "      <td>2017-06-11</td>\n",
              "      <td>Alabama</td>\n",
              "      <td>Memphis</td>\n",
              "      <td>82</td>\n",
              "      <td>70</td>\n",
              "      <td>Southeastern</td>\n",
              "      <td>American Athletic Conference</td>\n",
              "      <td>Regular Season</td>\n",
              "      <td>-3.5</td>\n",
              "    </tr>\n",
              "    <tr>\n",
              "      <th>41419</th>\n",
              "      <td>2014-06-17</td>\n",
              "      <td>Alabama</td>\n",
              "      <td>Towson</td>\n",
              "      <td>82</td>\n",
              "      <td>54</td>\n",
              "      <td>Southeastern</td>\n",
              "      <td>Colonial Athletic Association</td>\n",
              "      <td>Regular Season</td>\n",
              "      <td>-14.5</td>\n",
              "    </tr>\n",
              "    <tr>\n",
              "      <th>105364</th>\n",
              "      <td>2017-09-21</td>\n",
              "      <td>Alabama</td>\n",
              "      <td>Memphis</td>\n",
              "      <td>82</td>\n",
              "      <td>70</td>\n",
              "      <td>Southeastern</td>\n",
              "      <td>American Athletic Conference</td>\n",
              "      <td>Regular Season</td>\n",
              "      <td>-3.5</td>\n",
              "    </tr>\n",
              "    <tr>\n",
              "      <th>102388</th>\n",
              "      <td>2017-08-04</td>\n",
              "      <td>Alabama</td>\n",
              "      <td>Memphis</td>\n",
              "      <td>82</td>\n",
              "      <td>70</td>\n",
              "      <td>Southeastern</td>\n",
              "      <td>American Athletic Conference</td>\n",
              "      <td>Regular Season</td>\n",
              "      <td>-3.5</td>\n",
              "    </tr>\n",
              "    <tr>\n",
              "      <th>...</th>\n",
              "      <td>...</td>\n",
              "      <td>...</td>\n",
              "      <td>...</td>\n",
              "      <td>...</td>\n",
              "      <td>...</td>\n",
              "      <td>...</td>\n",
              "      <td>...</td>\n",
              "      <td>...</td>\n",
              "      <td>...</td>\n",
              "    </tr>\n",
              "    <tr>\n",
              "      <th>68379</th>\n",
              "      <td>2015-09-20</td>\n",
              "      <td>Yale</td>\n",
              "      <td>Fairfield</td>\n",
              "      <td>70</td>\n",
              "      <td>57</td>\n",
              "      <td>Ivy League</td>\n",
              "      <td>Metro Atlantic Athletic</td>\n",
              "      <td>Regular Season</td>\n",
              "      <td>-6.5</td>\n",
              "    </tr>\n",
              "    <tr>\n",
              "      <th>61746</th>\n",
              "      <td>2015-06-13</td>\n",
              "      <td>Yale</td>\n",
              "      <td>Fairfield</td>\n",
              "      <td>70</td>\n",
              "      <td>57</td>\n",
              "      <td>Ivy League</td>\n",
              "      <td>Metro Atlantic Athletic</td>\n",
              "      <td>Regular Season</td>\n",
              "      <td>-6.5</td>\n",
              "    </tr>\n",
              "    <tr>\n",
              "      <th>63957</th>\n",
              "      <td>2015-07-16</td>\n",
              "      <td>Yale</td>\n",
              "      <td>Fairfield</td>\n",
              "      <td>70</td>\n",
              "      <td>57</td>\n",
              "      <td>Ivy League</td>\n",
              "      <td>Metro Atlantic Athletic</td>\n",
              "      <td>Regular Season</td>\n",
              "      <td>-6.5</td>\n",
              "    </tr>\n",
              "    <tr>\n",
              "      <th>64024</th>\n",
              "      <td>2015-07-17</td>\n",
              "      <td>Yale</td>\n",
              "      <td>Fairfield</td>\n",
              "      <td>70</td>\n",
              "      <td>57</td>\n",
              "      <td>Ivy League</td>\n",
              "      <td>Metro Atlantic Athletic</td>\n",
              "      <td>Regular Season</td>\n",
              "      <td>-6.5</td>\n",
              "    </tr>\n",
              "    <tr>\n",
              "      <th>17856</th>\n",
              "      <td>2013-03-19</td>\n",
              "      <td>Youngstown St.</td>\n",
              "      <td>Oakland</td>\n",
              "      <td>99</td>\n",
              "      <td>87</td>\n",
              "      <td>Horizon League</td>\n",
              "      <td>Horizon League</td>\n",
              "      <td>CIT</td>\n",
              "      <td>-4.5</td>\n",
              "    </tr>\n",
              "  </tbody>\n",
              "</table>\n",
              "<p>123086 rows × 9 columns</p>\n",
              "</div>"
            ],
            "text/plain": [
              "              Date        HomeTeam   AwayTeam  HomeScore  AwayScore  \\\n",
              "742     2011-11-11       Air Force       Army         87         71   \n",
              "99040   2017-06-11         Alabama    Memphis         82         70   \n",
              "41419   2014-06-17         Alabama     Towson         82         54   \n",
              "105364  2017-09-21         Alabama    Memphis         82         70   \n",
              "102388  2017-08-04         Alabama    Memphis         82         70   \n",
              "...            ...             ...        ...        ...        ...   \n",
              "68379   2015-09-20            Yale  Fairfield         70         57   \n",
              "61746   2015-06-13            Yale  Fairfield         70         57   \n",
              "63957   2015-07-16            Yale  Fairfield         70         57   \n",
              "64024   2015-07-17            Yale  Fairfield         70         57   \n",
              "17856   2013-03-19  Youngstown St.    Oakland         99         87   \n",
              "\n",
              "              HomeConf                       AwayConf     Competition   Odd  \n",
              "742      Mountain West                 Patriot League  Regular Season -12.5  \n",
              "99040     Southeastern   American Athletic Conference  Regular Season  -3.5  \n",
              "41419     Southeastern  Colonial Athletic Association  Regular Season -14.5  \n",
              "105364    Southeastern   American Athletic Conference  Regular Season  -3.5  \n",
              "102388    Southeastern   American Athletic Conference  Regular Season  -3.5  \n",
              "...                ...                            ...             ...   ...  \n",
              "68379       Ivy League        Metro Atlantic Athletic  Regular Season  -6.5  \n",
              "61746       Ivy League        Metro Atlantic Athletic  Regular Season  -6.5  \n",
              "63957       Ivy League        Metro Atlantic Athletic  Regular Season  -6.5  \n",
              "64024       Ivy League        Metro Atlantic Athletic  Regular Season  -6.5  \n",
              "17856   Horizon League                 Horizon League             CIT  -4.5  \n",
              "\n",
              "[123086 rows x 9 columns]"
            ]
          },
          "metadata": {
            "tags": []
          },
          "execution_count": 9
        }
      ]
    },
    {
      "cell_type": "markdown",
      "metadata": {
        "id": "wXOalRv5RnIG",
        "colab_type": "text"
      },
      "source": [
        "From the table above we can see that there are something odd in vegas dataset. For example we can see that there are multiple row showing a match between Yale versus Fairfield where the Score and the Odd are exactly the same, but have a different Date. Logically this phenomenon is impossible to happen so we will drop all these duplicated rows based on all variables except Date"
      ]
    },
    {
      "cell_type": "code",
      "metadata": {
        "id": "5yYITQUQM-wp",
        "colab_type": "code",
        "outputId": "86ff776a-1d19-4d29-e26e-e91eed2c43b7",
        "colab": {
          "base_uri": "https://localhost:8080/",
          "height": 52
        }
      },
      "source": [
        "# Drop all duplicated rows in vegas dataset\n",
        "print('Total rows before dropping :',len(df_vegas))\n",
        "\n",
        "df_vegas = df_vegas.drop_duplicates(subset=list(df_vegas.columns)[1:])\n",
        "print('Total rows after dropping :',len(df_vegas))"
      ],
      "execution_count": 10,
      "outputs": [
        {
          "output_type": "stream",
          "text": [
            "Total rows before dropping : 160152\n",
            "Total rows after dropping : 37066\n"
          ],
          "name": "stdout"
        }
      ]
    },
    {
      "cell_type": "code",
      "metadata": {
        "id": "1WsNaWNDOdS_",
        "colab_type": "code",
        "outputId": "d205830c-fa90-4451-adf8-9a56295c648f",
        "colab": {
          "base_uri": "https://localhost:8080/",
          "height": 194
        }
      },
      "source": [
        "# Missing values dataset vegas\n",
        "df_vegas.isnull().sum()"
      ],
      "execution_count": 11,
      "outputs": [
        {
          "output_type": "execute_result",
          "data": {
            "text/plain": [
              "Date             0\n",
              "HomeTeam         0\n",
              "AwayTeam         0\n",
              "HomeScore        0\n",
              "AwayScore        0\n",
              "HomeConf        71\n",
              "AwayConf       131\n",
              "Competition      0\n",
              "Odd              0\n",
              "dtype: int64"
            ]
          },
          "metadata": {
            "tags": []
          },
          "execution_count": 11
        }
      ]
    },
    {
      "cell_type": "code",
      "metadata": {
        "id": "Kmn6mw7sSS-O",
        "colab_type": "code",
        "outputId": "e1d6b5f0-efe6-491f-e960-932a07ee1ac5",
        "colab": {
          "base_uri": "https://localhost:8080/",
          "height": 197
        }
      },
      "source": [
        "# See the match in vegas dataset where 'HomeConf' is missing\n",
        "df_vegas[df_vegas['HomeConf'].isnull()].head()"
      ],
      "execution_count": 12,
      "outputs": [
        {
          "output_type": "execute_result",
          "data": {
            "text/html": [
              "<div>\n",
              "<style scoped>\n",
              "    .dataframe tbody tr th:only-of-type {\n",
              "        vertical-align: middle;\n",
              "    }\n",
              "\n",
              "    .dataframe tbody tr th {\n",
              "        vertical-align: top;\n",
              "    }\n",
              "\n",
              "    .dataframe thead th {\n",
              "        text-align: right;\n",
              "    }\n",
              "</style>\n",
              "<table border=\"1\" class=\"dataframe\">\n",
              "  <thead>\n",
              "    <tr style=\"text-align: right;\">\n",
              "      <th></th>\n",
              "      <th>Date</th>\n",
              "      <th>HomeTeam</th>\n",
              "      <th>AwayTeam</th>\n",
              "      <th>HomeScore</th>\n",
              "      <th>AwayScore</th>\n",
              "      <th>HomeConf</th>\n",
              "      <th>AwayConf</th>\n",
              "      <th>Competition</th>\n",
              "      <th>Odd</th>\n",
              "    </tr>\n",
              "  </thead>\n",
              "  <tbody>\n",
              "    <tr>\n",
              "      <th>1017</th>\n",
              "      <td>2011-11-21</td>\n",
              "      <td>Chaminade</td>\n",
              "      <td>UCLA</td>\n",
              "      <td>60</td>\n",
              "      <td>92</td>\n",
              "      <td>NaN</td>\n",
              "      <td>Pacific-12</td>\n",
              "      <td>Regular Season</td>\n",
              "      <td>13.5</td>\n",
              "    </tr>\n",
              "    <tr>\n",
              "      <th>1022</th>\n",
              "      <td>2011-11-22</td>\n",
              "      <td>Chaminade</td>\n",
              "      <td>Georgetown</td>\n",
              "      <td>61</td>\n",
              "      <td>88</td>\n",
              "      <td>NaN</td>\n",
              "      <td>Big East</td>\n",
              "      <td>Regular Season</td>\n",
              "      <td>22.0</td>\n",
              "    </tr>\n",
              "    <tr>\n",
              "      <th>1062</th>\n",
              "      <td>2011-11-23</td>\n",
              "      <td>Chaminade</td>\n",
              "      <td>Tennessee</td>\n",
              "      <td>60</td>\n",
              "      <td>86</td>\n",
              "      <td>NaN</td>\n",
              "      <td>Southeastern</td>\n",
              "      <td>Regular Season</td>\n",
              "      <td>18.0</td>\n",
              "    </tr>\n",
              "    <tr>\n",
              "      <th>1089</th>\n",
              "      <td>2011-11-23</td>\n",
              "      <td>Alaska - Anchorage</td>\n",
              "      <td>Murray St.</td>\n",
              "      <td>62</td>\n",
              "      <td>64</td>\n",
              "      <td>NaN</td>\n",
              "      <td>Ohio Valley</td>\n",
              "      <td>Regular Season</td>\n",
              "      <td>13.0</td>\n",
              "    </tr>\n",
              "    <tr>\n",
              "      <th>1117</th>\n",
              "      <td>2011-11-25</td>\n",
              "      <td>Alaska - Anchorage</td>\n",
              "      <td>Dartmouth</td>\n",
              "      <td>52</td>\n",
              "      <td>64</td>\n",
              "      <td>NaN</td>\n",
              "      <td>Ivy League</td>\n",
              "      <td>Regular Season</td>\n",
              "      <td>-2.5</td>\n",
              "    </tr>\n",
              "  </tbody>\n",
              "</table>\n",
              "</div>"
            ],
            "text/plain": [
              "            Date            HomeTeam    AwayTeam  HomeScore  AwayScore  \\\n",
              "1017  2011-11-21           Chaminade        UCLA         60         92   \n",
              "1022  2011-11-22           Chaminade  Georgetown         61         88   \n",
              "1062  2011-11-23           Chaminade   Tennessee         60         86   \n",
              "1089  2011-11-23  Alaska - Anchorage  Murray St.         62         64   \n",
              "1117  2011-11-25  Alaska - Anchorage   Dartmouth         52         64   \n",
              "\n",
              "     HomeConf      AwayConf     Competition   Odd  \n",
              "1017      NaN    Pacific-12  Regular Season  13.5  \n",
              "1022      NaN      Big East  Regular Season  22.0  \n",
              "1062      NaN  Southeastern  Regular Season  18.0  \n",
              "1089      NaN   Ohio Valley  Regular Season  13.0  \n",
              "1117      NaN    Ivy League  Regular Season  -2.5  "
            ]
          },
          "metadata": {
            "tags": []
          },
          "execution_count": 12
        }
      ]
    },
    {
      "cell_type": "code",
      "metadata": {
        "id": "WJLoibOaSiwl",
        "colab_type": "code",
        "outputId": "1de5d74b-9c31-4e9a-a9e8-934770aa0075",
        "colab": {
          "base_uri": "https://localhost:8080/",
          "height": 197
        }
      },
      "source": [
        "# See the match in vegas dataset where 'AwayConf' is missing\n",
        "df_vegas[df_vegas['AwayConf'].isnull()].head()"
      ],
      "execution_count": 13,
      "outputs": [
        {
          "output_type": "execute_result",
          "data": {
            "text/html": [
              "<div>\n",
              "<style scoped>\n",
              "    .dataframe tbody tr th:only-of-type {\n",
              "        vertical-align: middle;\n",
              "    }\n",
              "\n",
              "    .dataframe tbody tr th {\n",
              "        vertical-align: top;\n",
              "    }\n",
              "\n",
              "    .dataframe thead th {\n",
              "        text-align: right;\n",
              "    }\n",
              "</style>\n",
              "<table border=\"1\" class=\"dataframe\">\n",
              "  <thead>\n",
              "    <tr style=\"text-align: right;\">\n",
              "      <th></th>\n",
              "      <th>Date</th>\n",
              "      <th>HomeTeam</th>\n",
              "      <th>AwayTeam</th>\n",
              "      <th>HomeScore</th>\n",
              "      <th>AwayScore</th>\n",
              "      <th>HomeConf</th>\n",
              "      <th>AwayConf</th>\n",
              "      <th>Competition</th>\n",
              "      <th>Odd</th>\n",
              "    </tr>\n",
              "  </thead>\n",
              "  <tbody>\n",
              "    <tr>\n",
              "      <th>1115</th>\n",
              "      <td>2011-11-25</td>\n",
              "      <td>Morehead St.</td>\n",
              "      <td>West Alabama</td>\n",
              "      <td>61</td>\n",
              "      <td>52</td>\n",
              "      <td>Ohio Valley</td>\n",
              "      <td>NaN</td>\n",
              "      <td>Regular Season</td>\n",
              "      <td>-16.5</td>\n",
              "    </tr>\n",
              "    <tr>\n",
              "      <th>1172</th>\n",
              "      <td>2011-11-26</td>\n",
              "      <td>Bucknell</td>\n",
              "      <td>West Alabama</td>\n",
              "      <td>87</td>\n",
              "      <td>50</td>\n",
              "      <td>Patriot League</td>\n",
              "      <td>NaN</td>\n",
              "      <td>Regular Season</td>\n",
              "      <td>-25.5</td>\n",
              "    </tr>\n",
              "    <tr>\n",
              "      <th>1217</th>\n",
              "      <td>2011-11-27</td>\n",
              "      <td>Princeton</td>\n",
              "      <td>West Alabama</td>\n",
              "      <td>66</td>\n",
              "      <td>42</td>\n",
              "      <td>Ivy League</td>\n",
              "      <td>NaN</td>\n",
              "      <td>Regular Season</td>\n",
              "      <td>-19.5</td>\n",
              "    </tr>\n",
              "    <tr>\n",
              "      <th>1233</th>\n",
              "      <td>2011-11-27</td>\n",
              "      <td>St. Mary's</td>\n",
              "      <td>San Francisco State</td>\n",
              "      <td>86</td>\n",
              "      <td>52</td>\n",
              "      <td>West Coast</td>\n",
              "      <td>NaN</td>\n",
              "      <td>Regular Season</td>\n",
              "      <td>-34.5</td>\n",
              "    </tr>\n",
              "    <tr>\n",
              "      <th>1327</th>\n",
              "      <td>2011-12-02</td>\n",
              "      <td>North Texas</td>\n",
              "      <td>La Sierra University</td>\n",
              "      <td>92</td>\n",
              "      <td>45</td>\n",
              "      <td>Conference USA</td>\n",
              "      <td>NaN</td>\n",
              "      <td>Regular Season</td>\n",
              "      <td>-22.0</td>\n",
              "    </tr>\n",
              "  </tbody>\n",
              "</table>\n",
              "</div>"
            ],
            "text/plain": [
              "            Date      HomeTeam              AwayTeam  HomeScore  AwayScore  \\\n",
              "1115  2011-11-25  Morehead St.          West Alabama         61         52   \n",
              "1172  2011-11-26      Bucknell          West Alabama         87         50   \n",
              "1217  2011-11-27     Princeton          West Alabama         66         42   \n",
              "1233  2011-11-27    St. Mary's   San Francisco State         86         52   \n",
              "1327  2011-12-02   North Texas  La Sierra University         92         45   \n",
              "\n",
              "            HomeConf AwayConf     Competition   Odd  \n",
              "1115     Ohio Valley      NaN  Regular Season -16.5  \n",
              "1172  Patriot League      NaN  Regular Season -25.5  \n",
              "1217      Ivy League      NaN  Regular Season -19.5  \n",
              "1233      West Coast      NaN  Regular Season -34.5  \n",
              "1327  Conference USA      NaN  Regular Season -22.0  "
            ]
          },
          "metadata": {
            "tags": []
          },
          "execution_count": 13
        }
      ]
    },
    {
      "cell_type": "markdown",
      "metadata": {
        "id": "5EHtLA5SSs49",
        "colab_type": "text"
      },
      "source": [
        "After we do some google searching we found that the team in the row where the Conf variable is missing belong to NCAA Division II. Because the purpose of these project is to predict the outcome of NCAA Division I Tournament we will exclude all there rows"
      ]
    },
    {
      "cell_type": "code",
      "metadata": {
        "id": "YkGdhuN2Okwg",
        "colab_type": "code",
        "colab": {}
      },
      "source": [
        "# Drop all row with missing values in vegas dataset\n",
        "df_vegas = df_vegas.dropna()"
      ],
      "execution_count": 0,
      "outputs": []
    },
    {
      "cell_type": "code",
      "metadata": {
        "id": "RZIaOWuJvXaN",
        "colab_type": "code",
        "outputId": "a0b0d1fa-87cf-4c17-9344-b750c2ff8328",
        "colab": {
          "base_uri": "https://localhost:8080/",
          "height": 346
        }
      },
      "source": [
        "# Overview dataset teamranking\n",
        "df_teamrank.head()"
      ],
      "execution_count": 15,
      "outputs": [
        {
          "output_type": "execute_result",
          "data": {
            "text/html": [
              "<div>\n",
              "<style scoped>\n",
              "    .dataframe tbody tr th:only-of-type {\n",
              "        vertical-align: middle;\n",
              "    }\n",
              "\n",
              "    .dataframe tbody tr th {\n",
              "        vertical-align: top;\n",
              "    }\n",
              "\n",
              "    .dataframe thead th {\n",
              "        text-align: right;\n",
              "    }\n",
              "</style>\n",
              "<table border=\"1\" class=\"dataframe\">\n",
              "  <thead>\n",
              "    <tr style=\"text-align: right;\">\n",
              "      <th></th>\n",
              "      <th>Team</th>\n",
              "      <th>Stat-points-per-game</th>\n",
              "      <th>Last3-points-per-game</th>\n",
              "      <th>Last1-points-per-game</th>\n",
              "      <th>Home-points-per-game</th>\n",
              "      <th>Away-points-per-game</th>\n",
              "      <th>Stat-average-scoring-margin</th>\n",
              "      <th>Last3-average-scoring-margin</th>\n",
              "      <th>Last1-average-scoring-margin</th>\n",
              "      <th>Home-average-scoring-margin</th>\n",
              "      <th>Away-average-scoring-margin</th>\n",
              "      <th>Stat-offensive-efficiency</th>\n",
              "      <th>Last3-offensive-efficiency</th>\n",
              "      <th>Last1-offensive-efficiency</th>\n",
              "      <th>Home-offensive-efficiency</th>\n",
              "      <th>Away-offensive-efficiency</th>\n",
              "      <th>Stat-floor-percentage</th>\n",
              "      <th>Last3-floor-percentage</th>\n",
              "      <th>Last1-floor-percentage</th>\n",
              "      <th>Home-floor-percentage</th>\n",
              "      <th>Away-floor-percentage</th>\n",
              "      <th>Stat-1st-half-points-per-game</th>\n",
              "      <th>Last3-1st-half-points-per-game</th>\n",
              "      <th>Last1-1st-half-points-per-game</th>\n",
              "      <th>Home-1st-half-points-per-game</th>\n",
              "      <th>...</th>\n",
              "      <th>Last3-opponent-effective-possession-ratio</th>\n",
              "      <th>Last1-opponent-effective-possession-ratio</th>\n",
              "      <th>Home-opponent-effective-possession-ratio</th>\n",
              "      <th>Away-opponent-effective-possession-ratio</th>\n",
              "      <th>Stat-win-pct-all-games</th>\n",
              "      <th>Last3-win-pct-all-games</th>\n",
              "      <th>Last1-win-pct-all-games</th>\n",
              "      <th>Home-win-pct-all-games</th>\n",
              "      <th>Away-win-pct-all-games</th>\n",
              "      <th>Stat-win-pct-close-games</th>\n",
              "      <th>Last3-win-pct-close-games</th>\n",
              "      <th>Last1-win-pct-close-games</th>\n",
              "      <th>Home-win-pct-close-games</th>\n",
              "      <th>Away-win-pct-close-games</th>\n",
              "      <th>Stat-opponent-win-pct-all-games</th>\n",
              "      <th>Last3-opponent-win-pct-all-games</th>\n",
              "      <th>Last1-opponent-win-pct-all-games</th>\n",
              "      <th>Home-opponent-win-pct-all-games</th>\n",
              "      <th>Away-opponent-win-pct-all-games</th>\n",
              "      <th>Stat-opponent-win-pct-close-games</th>\n",
              "      <th>Last3-opponent-win-pct-close-games</th>\n",
              "      <th>Last1-opponent-win-pct-close-games</th>\n",
              "      <th>Home-opponent-win-pct-close-games</th>\n",
              "      <th>Away-opponent-win-pct-close-games</th>\n",
              "      <th>Year</th>\n",
              "    </tr>\n",
              "  </thead>\n",
              "  <tbody>\n",
              "    <tr>\n",
              "      <th>0</th>\n",
              "      <td>Oakland</td>\n",
              "      <td>85.0909</td>\n",
              "      <td>94.0000</td>\n",
              "      <td>90.0</td>\n",
              "      <td>88.2222</td>\n",
              "      <td>83.9167</td>\n",
              "      <td>8.54545</td>\n",
              "      <td>16.666700</td>\n",
              "      <td>14.0</td>\n",
              "      <td>16.4444</td>\n",
              "      <td>5.58333</td>\n",
              "      <td>1.14740</td>\n",
              "      <td>1.33602</td>\n",
              "      <td>1.23245</td>\n",
              "      <td>1.19172</td>\n",
              "      <td>1.13083</td>\n",
              "      <td>0.545164</td>\n",
              "      <td>0.630619</td>\n",
              "      <td>0.607902</td>\n",
              "      <td>0.572985</td>\n",
              "      <td>0.534716</td>\n",
              "      <td>41.4848</td>\n",
              "      <td>50.0000</td>\n",
              "      <td>45.0</td>\n",
              "      <td>44.4444</td>\n",
              "      <td>...</td>\n",
              "      <td>0.990525</td>\n",
              "      <td>0.958918</td>\n",
              "      <td>0.965479</td>\n",
              "      <td>0.985963</td>\n",
              "      <td>0.7273</td>\n",
              "      <td>1.0000</td>\n",
              "      <td>1.0</td>\n",
              "      <td>1.0000</td>\n",
              "      <td>0.6250</td>\n",
              "      <td>0.4000</td>\n",
              "      <td>0.0</td>\n",
              "      <td>0.0</td>\n",
              "      <td>1.00</td>\n",
              "      <td>0.0000</td>\n",
              "      <td>0.2727</td>\n",
              "      <td>0.0000</td>\n",
              "      <td>0.0</td>\n",
              "      <td>0.0000</td>\n",
              "      <td>0.3750</td>\n",
              "      <td>0.6000</td>\n",
              "      <td>0.0</td>\n",
              "      <td>0.0</td>\n",
              "      <td>0.00</td>\n",
              "      <td>1.0000</td>\n",
              "      <td>2011</td>\n",
              "    </tr>\n",
              "    <tr>\n",
              "      <th>1</th>\n",
              "      <td>Washington</td>\n",
              "      <td>83.7188</td>\n",
              "      <td>72.6667</td>\n",
              "      <td>69.0</td>\n",
              "      <td>90.5000</td>\n",
              "      <td>76.9375</td>\n",
              "      <td>13.46880</td>\n",
              "      <td>6.000000</td>\n",
              "      <td>18.0</td>\n",
              "      <td>20.7500</td>\n",
              "      <td>6.18750</td>\n",
              "      <td>1.12216</td>\n",
              "      <td>1.06575</td>\n",
              "      <td>1.04387</td>\n",
              "      <td>1.19585</td>\n",
              "      <td>1.04632</td>\n",
              "      <td>0.527099</td>\n",
              "      <td>0.503182</td>\n",
              "      <td>0.486048</td>\n",
              "      <td>0.560858</td>\n",
              "      <td>0.492194</td>\n",
              "      <td>39.5938</td>\n",
              "      <td>29.3333</td>\n",
              "      <td>30.0</td>\n",
              "      <td>41.7500</td>\n",
              "      <td>...</td>\n",
              "      <td>0.956001</td>\n",
              "      <td>0.924357</td>\n",
              "      <td>0.911632</td>\n",
              "      <td>0.954951</td>\n",
              "      <td>0.6875</td>\n",
              "      <td>0.6667</td>\n",
              "      <td>1.0</td>\n",
              "      <td>0.8750</td>\n",
              "      <td>0.5000</td>\n",
              "      <td>0.1429</td>\n",
              "      <td>0.5</td>\n",
              "      <td>0.0</td>\n",
              "      <td>0.00</td>\n",
              "      <td>0.1667</td>\n",
              "      <td>0.3125</td>\n",
              "      <td>0.3333</td>\n",
              "      <td>0.0</td>\n",
              "      <td>0.1250</td>\n",
              "      <td>0.5000</td>\n",
              "      <td>0.8571</td>\n",
              "      <td>0.5</td>\n",
              "      <td>0.0</td>\n",
              "      <td>1.00</td>\n",
              "      <td>0.8333</td>\n",
              "      <td>2011</td>\n",
              "    </tr>\n",
              "    <tr>\n",
              "      <th>2</th>\n",
              "      <td>VA Military</td>\n",
              "      <td>83.5185</td>\n",
              "      <td>82.6667</td>\n",
              "      <td>81.0</td>\n",
              "      <td>82.7500</td>\n",
              "      <td>84.1333</td>\n",
              "      <td>1.22222</td>\n",
              "      <td>0.333333</td>\n",
              "      <td>-8.0</td>\n",
              "      <td>3.2500</td>\n",
              "      <td>-0.40000</td>\n",
              "      <td>1.07681</td>\n",
              "      <td>1.14043</td>\n",
              "      <td>1.12169</td>\n",
              "      <td>1.05280</td>\n",
              "      <td>1.09649</td>\n",
              "      <td>0.490842</td>\n",
              "      <td>0.524551</td>\n",
              "      <td>0.496313</td>\n",
              "      <td>0.482425</td>\n",
              "      <td>0.497738</td>\n",
              "      <td>39.9630</td>\n",
              "      <td>35.6667</td>\n",
              "      <td>30.0</td>\n",
              "      <td>38.7500</td>\n",
              "      <td>...</td>\n",
              "      <td>1.036790</td>\n",
              "      <td>0.958456</td>\n",
              "      <td>0.978796</td>\n",
              "      <td>0.980017</td>\n",
              "      <td>0.5185</td>\n",
              "      <td>0.6667</td>\n",
              "      <td>0.0</td>\n",
              "      <td>0.5833</td>\n",
              "      <td>0.4667</td>\n",
              "      <td>0.6667</td>\n",
              "      <td>1.0</td>\n",
              "      <td>0.0</td>\n",
              "      <td>1.00</td>\n",
              "      <td>0.5000</td>\n",
              "      <td>0.4815</td>\n",
              "      <td>0.3333</td>\n",
              "      <td>1.0</td>\n",
              "      <td>0.4167</td>\n",
              "      <td>0.5333</td>\n",
              "      <td>0.3333</td>\n",
              "      <td>0.0</td>\n",
              "      <td>0.0</td>\n",
              "      <td>0.00</td>\n",
              "      <td>0.5000</td>\n",
              "      <td>2011</td>\n",
              "    </tr>\n",
              "    <tr>\n",
              "      <th>3</th>\n",
              "      <td>LIU-Brooklyn</td>\n",
              "      <td>82.5938</td>\n",
              "      <td>81.3333</td>\n",
              "      <td>85.0</td>\n",
              "      <td>84.1250</td>\n",
              "      <td>81.0625</td>\n",
              "      <td>8.71875</td>\n",
              "      <td>6.666670</td>\n",
              "      <td>3.0</td>\n",
              "      <td>10.5625</td>\n",
              "      <td>6.87500</td>\n",
              "      <td>1.07504</td>\n",
              "      <td>1.08898</td>\n",
              "      <td>1.08229</td>\n",
              "      <td>1.09338</td>\n",
              "      <td>1.05665</td>\n",
              "      <td>0.529290</td>\n",
              "      <td>0.547226</td>\n",
              "      <td>0.554112</td>\n",
              "      <td>0.538522</td>\n",
              "      <td>0.519811</td>\n",
              "      <td>37.8125</td>\n",
              "      <td>36.0000</td>\n",
              "      <td>32.0</td>\n",
              "      <td>38.2500</td>\n",
              "      <td>...</td>\n",
              "      <td>1.004460</td>\n",
              "      <td>1.000000</td>\n",
              "      <td>0.965883</td>\n",
              "      <td>0.947045</td>\n",
              "      <td>0.8438</td>\n",
              "      <td>1.0000</td>\n",
              "      <td>1.0</td>\n",
              "      <td>0.8750</td>\n",
              "      <td>0.8125</td>\n",
              "      <td>0.7778</td>\n",
              "      <td>1.0</td>\n",
              "      <td>1.0</td>\n",
              "      <td>0.75</td>\n",
              "      <td>0.8000</td>\n",
              "      <td>0.1563</td>\n",
              "      <td>0.0000</td>\n",
              "      <td>0.0</td>\n",
              "      <td>0.1250</td>\n",
              "      <td>0.1875</td>\n",
              "      <td>0.2222</td>\n",
              "      <td>0.0</td>\n",
              "      <td>0.0</td>\n",
              "      <td>0.25</td>\n",
              "      <td>0.2000</td>\n",
              "      <td>2011</td>\n",
              "    </tr>\n",
              "    <tr>\n",
              "      <th>4</th>\n",
              "      <td>Kansas</td>\n",
              "      <td>82.3030</td>\n",
              "      <td>74.3333</td>\n",
              "      <td>90.0</td>\n",
              "      <td>83.7222</td>\n",
              "      <td>80.6000</td>\n",
              "      <td>17.30300</td>\n",
              "      <td>4.000000</td>\n",
              "      <td>7.0</td>\n",
              "      <td>21.7778</td>\n",
              "      <td>11.93330</td>\n",
              "      <td>1.15198</td>\n",
              "      <td>1.05662</td>\n",
              "      <td>1.27456</td>\n",
              "      <td>1.17982</td>\n",
              "      <td>1.11906</td>\n",
              "      <td>0.553508</td>\n",
              "      <td>0.523077</td>\n",
              "      <td>0.601093</td>\n",
              "      <td>0.562259</td>\n",
              "      <td>0.542944</td>\n",
              "      <td>40.7576</td>\n",
              "      <td>36.6667</td>\n",
              "      <td>43.0</td>\n",
              "      <td>41.2222</td>\n",
              "      <td>...</td>\n",
              "      <td>0.976309</td>\n",
              "      <td>1.014160</td>\n",
              "      <td>0.920928</td>\n",
              "      <td>0.931505</td>\n",
              "      <td>0.9394</td>\n",
              "      <td>1.0000</td>\n",
              "      <td>1.0</td>\n",
              "      <td>0.9444</td>\n",
              "      <td>0.9333</td>\n",
              "      <td>1.0000</td>\n",
              "      <td>1.0</td>\n",
              "      <td>0.0</td>\n",
              "      <td>1.00</td>\n",
              "      <td>1.0000</td>\n",
              "      <td>0.0606</td>\n",
              "      <td>0.0000</td>\n",
              "      <td>0.0</td>\n",
              "      <td>0.0556</td>\n",
              "      <td>0.0667</td>\n",
              "      <td>0.0000</td>\n",
              "      <td>0.0</td>\n",
              "      <td>0.0</td>\n",
              "      <td>0.00</td>\n",
              "      <td>0.0000</td>\n",
              "      <td>2011</td>\n",
              "    </tr>\n",
              "  </tbody>\n",
              "</table>\n",
              "<p>5 rows × 577 columns</p>\n",
              "</div>"
            ],
            "text/plain": [
              "           Team  Stat-points-per-game  Last3-points-per-game  \\\n",
              "0       Oakland               85.0909                94.0000   \n",
              "1    Washington               83.7188                72.6667   \n",
              "2   VA Military               83.5185                82.6667   \n",
              "3  LIU-Brooklyn               82.5938                81.3333   \n",
              "4        Kansas               82.3030                74.3333   \n",
              "\n",
              "   Last1-points-per-game  Home-points-per-game  Away-points-per-game  \\\n",
              "0                   90.0               88.2222               83.9167   \n",
              "1                   69.0               90.5000               76.9375   \n",
              "2                   81.0               82.7500               84.1333   \n",
              "3                   85.0               84.1250               81.0625   \n",
              "4                   90.0               83.7222               80.6000   \n",
              "\n",
              "   Stat-average-scoring-margin  Last3-average-scoring-margin  \\\n",
              "0                      8.54545                     16.666700   \n",
              "1                     13.46880                      6.000000   \n",
              "2                      1.22222                      0.333333   \n",
              "3                      8.71875                      6.666670   \n",
              "4                     17.30300                      4.000000   \n",
              "\n",
              "   Last1-average-scoring-margin  Home-average-scoring-margin  \\\n",
              "0                          14.0                      16.4444   \n",
              "1                          18.0                      20.7500   \n",
              "2                          -8.0                       3.2500   \n",
              "3                           3.0                      10.5625   \n",
              "4                           7.0                      21.7778   \n",
              "\n",
              "   Away-average-scoring-margin  Stat-offensive-efficiency  \\\n",
              "0                      5.58333                    1.14740   \n",
              "1                      6.18750                    1.12216   \n",
              "2                     -0.40000                    1.07681   \n",
              "3                      6.87500                    1.07504   \n",
              "4                     11.93330                    1.15198   \n",
              "\n",
              "   Last3-offensive-efficiency  Last1-offensive-efficiency  \\\n",
              "0                     1.33602                     1.23245   \n",
              "1                     1.06575                     1.04387   \n",
              "2                     1.14043                     1.12169   \n",
              "3                     1.08898                     1.08229   \n",
              "4                     1.05662                     1.27456   \n",
              "\n",
              "   Home-offensive-efficiency  Away-offensive-efficiency  \\\n",
              "0                    1.19172                    1.13083   \n",
              "1                    1.19585                    1.04632   \n",
              "2                    1.05280                    1.09649   \n",
              "3                    1.09338                    1.05665   \n",
              "4                    1.17982                    1.11906   \n",
              "\n",
              "   Stat-floor-percentage  Last3-floor-percentage  Last1-floor-percentage  \\\n",
              "0               0.545164                0.630619                0.607902   \n",
              "1               0.527099                0.503182                0.486048   \n",
              "2               0.490842                0.524551                0.496313   \n",
              "3               0.529290                0.547226                0.554112   \n",
              "4               0.553508                0.523077                0.601093   \n",
              "\n",
              "   Home-floor-percentage  Away-floor-percentage  \\\n",
              "0               0.572985               0.534716   \n",
              "1               0.560858               0.492194   \n",
              "2               0.482425               0.497738   \n",
              "3               0.538522               0.519811   \n",
              "4               0.562259               0.542944   \n",
              "\n",
              "   Stat-1st-half-points-per-game  Last3-1st-half-points-per-game  \\\n",
              "0                        41.4848                         50.0000   \n",
              "1                        39.5938                         29.3333   \n",
              "2                        39.9630                         35.6667   \n",
              "3                        37.8125                         36.0000   \n",
              "4                        40.7576                         36.6667   \n",
              "\n",
              "   Last1-1st-half-points-per-game  Home-1st-half-points-per-game  ...  \\\n",
              "0                            45.0                        44.4444  ...   \n",
              "1                            30.0                        41.7500  ...   \n",
              "2                            30.0                        38.7500  ...   \n",
              "3                            32.0                        38.2500  ...   \n",
              "4                            43.0                        41.2222  ...   \n",
              "\n",
              "   Last3-opponent-effective-possession-ratio  \\\n",
              "0                                   0.990525   \n",
              "1                                   0.956001   \n",
              "2                                   1.036790   \n",
              "3                                   1.004460   \n",
              "4                                   0.976309   \n",
              "\n",
              "   Last1-opponent-effective-possession-ratio  \\\n",
              "0                                   0.958918   \n",
              "1                                   0.924357   \n",
              "2                                   0.958456   \n",
              "3                                   1.000000   \n",
              "4                                   1.014160   \n",
              "\n",
              "   Home-opponent-effective-possession-ratio  \\\n",
              "0                                  0.965479   \n",
              "1                                  0.911632   \n",
              "2                                  0.978796   \n",
              "3                                  0.965883   \n",
              "4                                  0.920928   \n",
              "\n",
              "   Away-opponent-effective-possession-ratio  Stat-win-pct-all-games  \\\n",
              "0                                  0.985963                  0.7273   \n",
              "1                                  0.954951                  0.6875   \n",
              "2                                  0.980017                  0.5185   \n",
              "3                                  0.947045                  0.8438   \n",
              "4                                  0.931505                  0.9394   \n",
              "\n",
              "   Last3-win-pct-all-games  Last1-win-pct-all-games  Home-win-pct-all-games  \\\n",
              "0                   1.0000                      1.0                  1.0000   \n",
              "1                   0.6667                      1.0                  0.8750   \n",
              "2                   0.6667                      0.0                  0.5833   \n",
              "3                   1.0000                      1.0                  0.8750   \n",
              "4                   1.0000                      1.0                  0.9444   \n",
              "\n",
              "   Away-win-pct-all-games  Stat-win-pct-close-games  \\\n",
              "0                  0.6250                    0.4000   \n",
              "1                  0.5000                    0.1429   \n",
              "2                  0.4667                    0.6667   \n",
              "3                  0.8125                    0.7778   \n",
              "4                  0.9333                    1.0000   \n",
              "\n",
              "   Last3-win-pct-close-games  Last1-win-pct-close-games  \\\n",
              "0                        0.0                        0.0   \n",
              "1                        0.5                        0.0   \n",
              "2                        1.0                        0.0   \n",
              "3                        1.0                        1.0   \n",
              "4                        1.0                        0.0   \n",
              "\n",
              "   Home-win-pct-close-games  Away-win-pct-close-games  \\\n",
              "0                      1.00                    0.0000   \n",
              "1                      0.00                    0.1667   \n",
              "2                      1.00                    0.5000   \n",
              "3                      0.75                    0.8000   \n",
              "4                      1.00                    1.0000   \n",
              "\n",
              "   Stat-opponent-win-pct-all-games  Last3-opponent-win-pct-all-games  \\\n",
              "0                           0.2727                            0.0000   \n",
              "1                           0.3125                            0.3333   \n",
              "2                           0.4815                            0.3333   \n",
              "3                           0.1563                            0.0000   \n",
              "4                           0.0606                            0.0000   \n",
              "\n",
              "   Last1-opponent-win-pct-all-games  Home-opponent-win-pct-all-games  \\\n",
              "0                               0.0                           0.0000   \n",
              "1                               0.0                           0.1250   \n",
              "2                               1.0                           0.4167   \n",
              "3                               0.0                           0.1250   \n",
              "4                               0.0                           0.0556   \n",
              "\n",
              "   Away-opponent-win-pct-all-games  Stat-opponent-win-pct-close-games  \\\n",
              "0                           0.3750                             0.6000   \n",
              "1                           0.5000                             0.8571   \n",
              "2                           0.5333                             0.3333   \n",
              "3                           0.1875                             0.2222   \n",
              "4                           0.0667                             0.0000   \n",
              "\n",
              "   Last3-opponent-win-pct-close-games  Last1-opponent-win-pct-close-games  \\\n",
              "0                                 0.0                                 0.0   \n",
              "1                                 0.5                                 0.0   \n",
              "2                                 0.0                                 0.0   \n",
              "3                                 0.0                                 0.0   \n",
              "4                                 0.0                                 0.0   \n",
              "\n",
              "   Home-opponent-win-pct-close-games  Away-opponent-win-pct-close-games  Year  \n",
              "0                               0.00                             1.0000  2011  \n",
              "1                               1.00                             0.8333  2011  \n",
              "2                               0.00                             0.5000  2011  \n",
              "3                               0.25                             0.2000  2011  \n",
              "4                               0.00                             0.0000  2011  \n",
              "\n",
              "[5 rows x 577 columns]"
            ]
          },
          "metadata": {
            "tags": []
          },
          "execution_count": 15
        }
      ]
    },
    {
      "cell_type": "code",
      "metadata": {
        "id": "PebC2wgPT4jo",
        "colab_type": "code",
        "outputId": "9ac49676-e378-4da3-eb4d-6627ccc27c9f",
        "colab": {
          "base_uri": "https://localhost:8080/",
          "height": 34
        }
      },
      "source": [
        "# Check wether there are variable with missing values in teamranking dataset\n",
        "dummy = df_teamrank.isnull().any()\n",
        "print('Problematic variable :',dummy[dummy==True])"
      ],
      "execution_count": 16,
      "outputs": [
        {
          "output_type": "stream",
          "text": [
            "Problematic variable : Series([], dtype: bool)\n"
          ],
          "name": "stdout"
        }
      ]
    },
    {
      "cell_type": "code",
      "metadata": {
        "id": "lN_9fvydlI5J",
        "colab_type": "code",
        "outputId": "3b474836-b21a-475c-e6cd-1860b4d56684",
        "colab": {
          "base_uri": "https://localhost:8080/",
          "height": 347
        }
      },
      "source": [
        "# Check wether the total of team are the same with the total of rows in each year\n",
        "df_teamrank.groupby('Year').agg({'Team':'count'}) - df_teamrank.groupby('Year').agg({'Team':'nunique'})"
      ],
      "execution_count": 17,
      "outputs": [
        {
          "output_type": "execute_result",
          "data": {
            "text/html": [
              "<div>\n",
              "<style scoped>\n",
              "    .dataframe tbody tr th:only-of-type {\n",
              "        vertical-align: middle;\n",
              "    }\n",
              "\n",
              "    .dataframe tbody tr th {\n",
              "        vertical-align: top;\n",
              "    }\n",
              "\n",
              "    .dataframe thead th {\n",
              "        text-align: right;\n",
              "    }\n",
              "</style>\n",
              "<table border=\"1\" class=\"dataframe\">\n",
              "  <thead>\n",
              "    <tr style=\"text-align: right;\">\n",
              "      <th></th>\n",
              "      <th>Team</th>\n",
              "    </tr>\n",
              "    <tr>\n",
              "      <th>Year</th>\n",
              "      <th></th>\n",
              "    </tr>\n",
              "  </thead>\n",
              "  <tbody>\n",
              "    <tr>\n",
              "      <th>2011</th>\n",
              "      <td>0</td>\n",
              "    </tr>\n",
              "    <tr>\n",
              "      <th>2012</th>\n",
              "      <td>0</td>\n",
              "    </tr>\n",
              "    <tr>\n",
              "      <th>2013</th>\n",
              "      <td>0</td>\n",
              "    </tr>\n",
              "    <tr>\n",
              "      <th>2014</th>\n",
              "      <td>0</td>\n",
              "    </tr>\n",
              "    <tr>\n",
              "      <th>2015</th>\n",
              "      <td>0</td>\n",
              "    </tr>\n",
              "    <tr>\n",
              "      <th>2016</th>\n",
              "      <td>0</td>\n",
              "    </tr>\n",
              "    <tr>\n",
              "      <th>2017</th>\n",
              "      <td>0</td>\n",
              "    </tr>\n",
              "    <tr>\n",
              "      <th>2018</th>\n",
              "      <td>0</td>\n",
              "    </tr>\n",
              "    <tr>\n",
              "      <th>2019</th>\n",
              "      <td>0</td>\n",
              "    </tr>\n",
              "  </tbody>\n",
              "</table>\n",
              "</div>"
            ],
            "text/plain": [
              "      Team\n",
              "Year      \n",
              "2011     0\n",
              "2012     0\n",
              "2013     0\n",
              "2014     0\n",
              "2015     0\n",
              "2016     0\n",
              "2017     0\n",
              "2018     0\n",
              "2019     0"
            ]
          },
          "metadata": {
            "tags": []
          },
          "execution_count": 17
        }
      ]
    },
    {
      "cell_type": "code",
      "metadata": {
        "id": "0uiSXMLMwNJD",
        "colab_type": "code",
        "outputId": "e1a57df8-6c31-4c58-a40d-f3f924e29f12",
        "colab": {
          "base_uri": "https://localhost:8080/",
          "height": 197
        }
      },
      "source": [
        "# Overview dataset changeteam\n",
        "teamname_df.head()"
      ],
      "execution_count": 18,
      "outputs": [
        {
          "output_type": "execute_result",
          "data": {
            "text/html": [
              "<div>\n",
              "<style scoped>\n",
              "    .dataframe tbody tr th:only-of-type {\n",
              "        vertical-align: middle;\n",
              "    }\n",
              "\n",
              "    .dataframe tbody tr th {\n",
              "        vertical-align: top;\n",
              "    }\n",
              "\n",
              "    .dataframe thead th {\n",
              "        text-align: right;\n",
              "    }\n",
              "</style>\n",
              "<table border=\"1\" class=\"dataframe\">\n",
              "  <thead>\n",
              "    <tr style=\"text-align: right;\">\n",
              "      <th></th>\n",
              "      <th>TeamNameSpelling</th>\n",
              "      <th>TeamName</th>\n",
              "    </tr>\n",
              "  </thead>\n",
              "  <tbody>\n",
              "    <tr>\n",
              "      <th>0</th>\n",
              "      <td>abilene chr</td>\n",
              "      <td>abilene chr</td>\n",
              "    </tr>\n",
              "    <tr>\n",
              "      <th>1</th>\n",
              "      <td>abilene christian</td>\n",
              "      <td>abilene chr</td>\n",
              "    </tr>\n",
              "    <tr>\n",
              "      <th>2</th>\n",
              "      <td>air force</td>\n",
              "      <td>air force</td>\n",
              "    </tr>\n",
              "    <tr>\n",
              "      <th>3</th>\n",
              "      <td>akron</td>\n",
              "      <td>akron</td>\n",
              "    </tr>\n",
              "    <tr>\n",
              "      <th>4</th>\n",
              "      <td>alabama</td>\n",
              "      <td>alabama</td>\n",
              "    </tr>\n",
              "  </tbody>\n",
              "</table>\n",
              "</div>"
            ],
            "text/plain": [
              "    TeamNameSpelling     TeamName\n",
              "0        abilene chr  abilene chr\n",
              "1  abilene christian  abilene chr\n",
              "2          air force    air force\n",
              "3              akron        akron\n",
              "4            alabama      alabama"
            ]
          },
          "metadata": {
            "tags": []
          },
          "execution_count": 18
        }
      ]
    },
    {
      "cell_type": "markdown",
      "metadata": {
        "id": "rqpfwgW8QaoJ",
        "colab_type": "text"
      },
      "source": [
        "## Preprocessing Team Name Format\n",
        "We use three dataset from three different source. Because of that the team name format in each dataset differ so first we will synchronize the team name format in all three dataset with a file from Kaggle"
      ]
    },
    {
      "cell_type": "markdown",
      "metadata": {
        "id": "a-OuRGvNUiPq",
        "colab_type": "text"
      },
      "source": [
        "First we eill change the team name to lowercase and throw away all the unnecessary white spaces for text preprocessing purpose"
      ]
    },
    {
      "cell_type": "code",
      "metadata": {
        "id": "V-ioTbnovZ9V",
        "colab_type": "code",
        "colab": {}
      },
      "source": [
        "# Change team name to lowercase\n",
        "df_vegas['HomeTeam'] = df_vegas['HomeTeam'].str.lower()\n",
        "df_vegas['AwayTeam'] = df_vegas['AwayTeam'].str.lower()\n",
        "df_kenpom['Team'] = df_kenpom['Team'].str.lower()\n",
        "df_teamrank['Team'] = df_teamrank['Team'].str.lower()\n",
        "teamname_df['TeamNameSpelling'] = teamname_df['TeamNameSpelling'].str.lower()\n",
        "teamname_df['TeamName'] = teamname_df['TeamName'].str.lower()"
      ],
      "execution_count": 0,
      "outputs": []
    },
    {
      "cell_type": "code",
      "metadata": {
        "id": "dpQZf9rB0FWw",
        "colab_type": "code",
        "colab": {}
      },
      "source": [
        "# Throw away unnecessary white spaces\n",
        "df_vegas['HomeTeam'] = df_vegas['HomeTeam'].str.strip()\n",
        "df_vegas['AwayTeam'] = df_vegas['AwayTeam'].str.strip()\n",
        "df_kenpom['Team'] = df_kenpom['Team'].str.strip()\n",
        "df_teamrank['Team'] = df_teamrank['Team'].str.strip()\n",
        "teamname_df['TeamNameSpelling'] = teamname_df['TeamNameSpelling'].str.strip()\n",
        "teamname_df['TeamName'] = teamname_df['TeamName'].str.strip()"
      ],
      "execution_count": 0,
      "outputs": []
    },
    {
      "cell_type": "markdown",
      "metadata": {
        "id": "5cO_l7goUqat",
        "colab_type": "text"
      },
      "source": [
        "Second we will drop all symbol in team name like '.' and '-'"
      ]
    },
    {
      "cell_type": "code",
      "metadata": {
        "id": "8qLCEtEd0qNE",
        "colab_type": "code",
        "colab": {}
      },
      "source": [
        "# Change '.' in team name to ''\n",
        "df_vegas['HomeTeam'] = df_vegas['HomeTeam'].str.replace('\\.', '')\n",
        "df_vegas['AwayTeam'] = df_vegas['AwayTeam'].str.replace('\\.', '')\n",
        "df_kenpom['Team'] = df_kenpom['Team'].str.replace('\\.', '')\n",
        "df_teamrank['Team'] = df_teamrank['Team'].str.replace('\\.', '')\n",
        "teamname_df['TeamNameSpelling'] = teamname_df['TeamNameSpelling'].str.replace('\\.', '')\n",
        "teamname_df['TeamName'] = teamname_df['TeamName'].str.replace('\\.', '')"
      ],
      "execution_count": 0,
      "outputs": []
    },
    {
      "cell_type": "code",
      "metadata": {
        "id": "iiIuWc6IywqC",
        "colab_type": "code",
        "colab": {}
      },
      "source": [
        "# Change '-' in team name to ' '\n",
        "df_vegas['HomeTeam'] = df_vegas['HomeTeam'].str.replace('\\-', ' ')\n",
        "df_vegas['AwayTeam'] = df_vegas['AwayTeam'].str.replace('\\-', ' ')\n",
        "df_kenpom['Team'] = df_kenpom['Team'].str.replace('\\-', ' ')\n",
        "df_teamrank['Team'] = df_teamrank['Team'].str.replace('\\-', ' ')\n",
        "teamname_df['TeamNameSpelling'] = teamname_df['TeamNameSpelling'].str.replace('\\-', ' ')\n",
        "teamname_df['TeamName'] = teamname_df['TeamName'].str.replace('\\-', ' ')"
      ],
      "execution_count": 0,
      "outputs": []
    },
    {
      "cell_type": "markdown",
      "metadata": {
        "id": "gqSWiU8iU1cC",
        "colab_type": "text"
      },
      "source": [
        "Third we eill make a dictionary from teamname dataset to synchronize the team name for all three dataset"
      ]
    },
    {
      "cell_type": "code",
      "metadata": {
        "colab_type": "code",
        "id": "7qTwQAe52NSH",
        "outputId": "5054b1e9-db51-4fea-fcf7-353de1cca988",
        "colab": {
          "base_uri": "https://localhost:8080/",
          "height": 52
        }
      },
      "source": [
        "# Make an identity mapping for each TeamName\n",
        "list_team = list(teamname_df['TeamName'].unique())\n",
        "teamname_upd = pd.DataFrame({'TeamNameSpelling':list_team, 'TeamName':list_team})\n",
        "print('Jumlah row teamname_df awal :',len(teamname_df))\n",
        "\n",
        "teamname_df = pd.concat([teamname_df, teamname_upd])\n",
        "teamname_df = teamname_df.drop_duplicates()\n",
        "print('Jumlah row teamname_df akhir :',len(teamname_df))"
      ],
      "execution_count": 23,
      "outputs": [
        {
          "output_type": "stream",
          "text": [
            "Jumlah row teamname_df awal : 895\n",
            "Jumlah row teamname_df akhir : 840\n"
          ],
          "name": "stdout"
        }
      ]
    },
    {
      "cell_type": "code",
      "metadata": {
        "id": "prwdcPR62isg",
        "colab_type": "code",
        "colab": {}
      },
      "source": [
        "# Make the dictionary\n",
        "dict_changeteam = teamname_df.set_index('TeamNameSpelling').to_dict()['TeamName']"
      ],
      "execution_count": 0,
      "outputs": []
    },
    {
      "cell_type": "code",
      "metadata": {
        "id": "5_2fCDPuAJm6",
        "colab_type": "code",
        "colab": {}
      },
      "source": [
        "# Update the dictionary\n",
        "dict_team_upd = {'ut rio grande valley':'utrgv', 'southwest missouri st':'missouri st', 'southwest texas st':'texas st'\n",
        "                ,\"st joseph's (pa)\":\"st joseph's pa\", 'chaminade':'chaminade', 'alaska   anchorage':'uaa'\n",
        "                ,'san francisco state':'san francisco state', 'la sierra university':'la sierra university', 'alabama huntsville':'uah'\n",
        "                ,'metro state':'metro state', 'west alabama':'west alabama', 'sonoma state':'sonoma state', 'concordia st paul':'concordia st paul'\n",
        "                ,'merrimack':'merrimack', 'pacific union':'pacific union', 'western new mexico':'wnmu'\n",
        "                ,'valley city state':'vcsu', 'mayville state':'msu', 'brevard':'brevard'\n",
        "                ,'southwest state':'smsu', 'western oregon':'wou',\n",
        "                'evergreen state':'evergreen state', 'hope':'hope', 'hawaii pacific':'hawaii pacific', 'wv wesleyan':'wv wesleyan'}\n",
        "\n",
        "dict_changeteam.update(dict_team_upd)"
      ],
      "execution_count": 0,
      "outputs": []
    },
    {
      "cell_type": "markdown",
      "metadata": {
        "id": "ZeDxaL6OU9j6",
        "colab_type": "text"
      },
      "source": [
        "We make the update for the dictionary from the remaining team that hasn't been mapped to the new format manually. We identify the team from the last attempt to merge all three dataset"
      ]
    },
    {
      "cell_type": "code",
      "metadata": {
        "id": "btNhGMjgnr8T",
        "colab_type": "code",
        "colab": {}
      },
      "source": [
        "# Change the mismatch in dictionary\n",
        "# We identify the mismatch from the last attempt to merge all three dataset \n",
        "# The faulty name are maryland and loyola md\n",
        "# Because of the mismatch there are duplicated match in the dataset\n",
        "dict_changeteam['maryland bc'] = 'umbc'\n",
        "dict_changeteam['loyola mymt'] = 'loy marymount'"
      ],
      "execution_count": 0,
      "outputs": []
    },
    {
      "cell_type": "code",
      "metadata": {
        "id": "yy7ktwQsKbM4",
        "colab_type": "code",
        "colab": {}
      },
      "source": [
        "# Change the team name format\n",
        "df_vegas['HomeTeam'] = df_vegas['HomeTeam'].map(dict_changeteam)\n",
        "df_vegas['AwayTeam'] = df_vegas['AwayTeam'].map(dict_changeteam)\n",
        "df_kenpom['Team'] = df_kenpom['Team'].map(dict_changeteam)\n",
        "df_teamrank['Team'] = df_teamrank['Team'].map(dict_changeteam)"
      ],
      "execution_count": 0,
      "outputs": []
    },
    {
      "cell_type": "code",
      "metadata": {
        "id": "54JWr5myPRmt",
        "colab_type": "code",
        "outputId": "5a23d8e1-4d1c-46d8-b9ff-688c6492918f",
        "colab": {
          "base_uri": "https://localhost:8080/",
          "height": 87
        }
      },
      "source": [
        "# Check wether there are still a team that hasn't been mapped\n",
        "idx = df_vegas[df_vegas['HomeTeam'].isnull()].index\n",
        "print('Problematic team in vegas dataset (Home) :',df_vegas.loc[idx,:]['HomeTeam'].unique())\n",
        "\n",
        "idx = df_vegas[df_vegas['AwayTeam'].isnull()].index\n",
        "print('Problematic team in vegas dataset (Away) :',df_vegas.loc[idx,:]['AwayTeam'].unique())\n",
        "\n",
        "idx = df_kenpom[df_kenpom['Team'].isnull()].index\n",
        "print('Problematic team in kenpom dataset :',df_kenpom.loc[idx,:]['Team'].unique())\n",
        "\n",
        "idx = df_teamrank[df_teamrank['Team'].isnull()].index\n",
        "print('Problematic team in teamranking dataset :',df_teamrank.loc[idx,:]['Team'].unique())"
      ],
      "execution_count": 28,
      "outputs": [
        {
          "output_type": "stream",
          "text": [
            "Problematic team in vegas dataset (Home) : []\n",
            "Problematic team in vegas dataset (Away) : []\n",
            "Problematic team in kenpom dataset : []\n",
            "Problematic team in teamranking dataset : []\n"
          ],
          "name": "stdout"
        }
      ]
    },
    {
      "cell_type": "markdown",
      "metadata": {
        "id": "TZLNarJBVQzB",
        "colab_type": "text"
      },
      "source": [
        "## Preprocessing Dataset\n",
        "After we synchronize the team name format we will merge all three dataset to one final dataset for modelling"
      ]
    },
    {
      "cell_type": "code",
      "metadata": {
        "id": "2JqRE4IDaK41",
        "colab_type": "code",
        "colab": {}
      },
      "source": [
        "# Change Date dtype to datetime in vegas dataset\n",
        "df_vegas['Date'] = pd.to_datetime(df_vegas['Date'])"
      ],
      "execution_count": 0,
      "outputs": []
    },
    {
      "cell_type": "code",
      "metadata": {
        "id": "H7_XxPjAaNI_",
        "colab_type": "code",
        "outputId": "40eb1a22-1403-4045-d427-113405e2d57b",
        "colab": {
          "base_uri": "https://localhost:8080/",
          "height": 34
        }
      },
      "source": [
        "# Make variabel Year for vegas dataset for merging purpose\n",
        "# Variable Year represent which year the NCAA Tournament begin\n",
        "list_year = []\n",
        "year = 2012\n",
        "for i in tqdm(range(len(df_vegas)-1)) :\n",
        "  list_year.append(year)\n",
        "\n",
        "  # Update the year\n",
        "  if (df_vegas.iloc[i]['Competition'] == 'NCAA Tournament') & (df_vegas.iloc[i+1]['Competition'] == 'Regular Season') :\n",
        "    year =  year + 1\n",
        "\n",
        "# Go\n",
        "list_year.append(2020)\n",
        "df_vegas['Year'] = list_year"
      ],
      "execution_count": 30,
      "outputs": [
        {
          "output_type": "stream",
          "text": [
            "100%|██████████| 36863/36863 [00:12<00:00, 2913.71it/s]\n"
          ],
          "name": "stderr"
        }
      ]
    },
    {
      "cell_type": "code",
      "metadata": {
        "id": "FQRD8dL43gQ-",
        "colab_type": "code",
        "colab": {}
      },
      "source": [
        "# Function to make a dataset with variable name format home or away\n",
        "def change_col(df, jenis) :\n",
        "\n",
        "  # Initiate supporting variable\n",
        "  df_final = df.copy()\n",
        "  list_col = list(df.columns)\n",
        "  list_col_final = []\n",
        "\n",
        "  # Iteration to change variable name\n",
        "  for col in list_col :\n",
        "    if col not in ['Year'] :\n",
        "      list_col_final.append(jenis+'_'+col)\n",
        "    else :\n",
        "      list_col_final.append(col)\n",
        "\n",
        "  # Change the variable name in the dataset\n",
        "  df_final.columns = list_col_final\n",
        "\n",
        "  return df_final"
      ],
      "execution_count": 0,
      "outputs": []
    },
    {
      "cell_type": "code",
      "metadata": {
        "id": "JSEAbhdyW_Wu",
        "colab_type": "code",
        "colab": {}
      },
      "source": [
        "# Make two dataset with home and away format for kenpom and teamranking dataset\n",
        "df_kenpom_home = change_col(df_kenpom, 'Home')\n",
        "df_kenpom_road = change_col(df_kenpom, 'Away')\n",
        "df_rank_home = change_col(df_teamrank, 'Home')\n",
        "df_rank_road = change_col(df_teamrank, 'Away')"
      ],
      "execution_count": 0,
      "outputs": []
    },
    {
      "cell_type": "code",
      "metadata": {
        "id": "-RY7y4xNXFd0",
        "colab_type": "code",
        "colab": {}
      },
      "source": [
        "# Merge the dataset\n",
        "df_final = df_vegas.merge(df_kenpom_home, left_on=['Year', 'HomeTeam'], right_on=['Year','Home_Team'], how='inner').drop(columns=['Home_Team'])\n",
        "df_final = df_final.merge(df_kenpom_road, left_on=['Year', 'AwayTeam'], right_on=['Year','Away_Team'], how='inner').drop(columns=['Away_Team'])\n",
        "df_final = df_final.merge(df_rank_home, left_on=['Year', 'HomeTeam'], right_on=['Year','Home_Team'], how='inner').drop(columns=['Home_Team'])\n",
        "df_final = df_final.merge(df_rank_road, left_on=['Year', 'AwayTeam'], right_on=['Year','Away_Team'], how='inner').drop(columns=['Away_Team'])"
      ],
      "execution_count": 0,
      "outputs": []
    },
    {
      "cell_type": "code",
      "metadata": {
        "id": "xVpVIlAFbq4B",
        "colab_type": "code",
        "colab": {}
      },
      "source": [
        "# Order the dataset by Date\n",
        "df_final = df_final.sort_values('Date')"
      ],
      "execution_count": 0,
      "outputs": []
    },
    {
      "cell_type": "code",
      "metadata": {
        "id": "PEFW8CJWb5lN",
        "colab_type": "code",
        "outputId": "d0a4bbc4-4ae7-428f-a3fe-51737c7a9910",
        "colab": {
          "base_uri": "https://localhost:8080/",
          "height": 194
        }
      },
      "source": [
        "# Check wether the total match in NCAA Tournament is complete\n",
        "# One tournament consist of 67 matches\n",
        "dummy = df_final[df_final['Competition']=='NCAA Tournament']\n",
        "dummy.groupby('Year').count()['Date']"
      ],
      "execution_count": 35,
      "outputs": [
        {
          "output_type": "execute_result",
          "data": {
            "text/plain": [
              "Year\n",
              "2012    67\n",
              "2013    69\n",
              "2014    67\n",
              "2015    67\n",
              "2016    67\n",
              "2017    68\n",
              "2018    67\n",
              "2019    67\n",
              "Name: Date, dtype: int64"
            ]
          },
          "metadata": {
            "tags": []
          },
          "execution_count": 35
        }
      ]
    },
    {
      "cell_type": "code",
      "metadata": {
        "id": "PEK5Omjl3-OH",
        "colab_type": "code",
        "colab": {}
      },
      "source": [
        "# Get index of problematic rows\n",
        "list_idx = []\n",
        "\n",
        "# Check NCAA Tournament 2013\n",
        "dummy  = df_final[(df_final['Competition']=='NCAA Tournament') & (df_final['Year']==2013)]\n",
        "list_idx = list_idx + list(dummy.head(2).index)\n",
        "\n",
        "# Check NCAA Tournament 2017\n",
        "dummy  = df_final[(df_final['Competition']=='NCAA Tournament') & (df_final['Year']==2017)]\n",
        "list_idx = list_idx + list(dummy.head(1).index)"
      ],
      "execution_count": 0,
      "outputs": []
    },
    {
      "cell_type": "markdown",
      "metadata": {
        "id": "o7OOwsdq2r6z",
        "colab_type": "text"
      },
      "source": [
        "We can see that there are surplus matches in 2013 and 2017. After we check the dataset in each year and comparing the Date where the NCAA Tournament begin we can conclude that these surplus matches are not supposed to be NCAA Tournament matches because the match date are before the tournament started. So we will change the value in variable Competition to 'Regular Season' for there problematic matches"
      ]
    },
    {
      "cell_type": "code",
      "metadata": {
        "id": "FT5DDfc35erc",
        "colab_type": "code",
        "colab": {}
      },
      "source": [
        "# Change the Competition value for problematic rows\n",
        "df_final.loc[list_idx,'Competition'] = 'Regular Season'"
      ],
      "execution_count": 0,
      "outputs": []
    },
    {
      "cell_type": "code",
      "metadata": {
        "id": "tzv8-jVZ56f8",
        "colab_type": "code",
        "colab": {
          "base_uri": "https://localhost:8080/",
          "height": 194
        },
        "outputId": "b4b355ac-2eca-4a77-b862-d307055ce2c8"
      },
      "source": [
        "# Check wether the total match in NCAA Tournament are correct\n",
        "# One tournament consist of 67 matches\n",
        "dummy = df_final[df_final['Competition']=='NCAA Tournament']\n",
        "dummy.groupby('Year').count()['Date']"
      ],
      "execution_count": 38,
      "outputs": [
        {
          "output_type": "execute_result",
          "data": {
            "text/plain": [
              "Year\n",
              "2012    67\n",
              "2013    67\n",
              "2014    67\n",
              "2015    67\n",
              "2016    67\n",
              "2017    67\n",
              "2018    67\n",
              "2019    67\n",
              "Name: Date, dtype: int64"
            ]
          },
          "metadata": {
            "tags": []
          },
          "execution_count": 38
        }
      ]
    },
    {
      "cell_type": "markdown",
      "metadata": {
        "id": "1hqoY3LPE5iz",
        "colab_type": "text"
      },
      "source": [
        "Next we will make the response variable 'Result' represented wether the home team win or not"
      ]
    },
    {
      "cell_type": "code",
      "metadata": {
        "id": "DQH1cCxxFBaq",
        "colab_type": "code",
        "colab": {}
      },
      "source": [
        "# Make variable 'Result'\n",
        "def check_winner(hscore, rscore) :\n",
        "  if hscore > rscore :\n",
        "    result = 'W'\n",
        "  else :\n",
        "    result = 'L'\n",
        "\n",
        "  return result\n",
        "\n",
        "df_final['Result'] = df_final.apply(lambda x: check_winner(x['HomeScore'], x['AwayScore']), axis=1)"
      ],
      "execution_count": 0,
      "outputs": []
    },
    {
      "cell_type": "code",
      "metadata": {
        "id": "6Gczioiv3dMu",
        "colab_type": "code",
        "colab": {}
      },
      "source": [
        "# Save the final dataset\n",
        "df_final.to_csv('Data Modelling/data_final.csv', index=False)"
      ],
      "execution_count": 0,
      "outputs": []
    }
  ]
}